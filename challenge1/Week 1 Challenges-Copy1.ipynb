{
 "cells": [
  {
   "cell_type": "markdown",
   "metadata": {},
   "source": [
    "# Challenge 1"
   ]
  },
  {
   "cell_type": "markdown",
   "metadata": {},
   "source": [
    "#### Where I get the data from"
   ]
  },
  {
   "cell_type": "markdown",
   "metadata": {},
   "source": [
    "http://web.mta.info/developers/turnstile.html"
   ]
  },
  {
   "cell_type": "markdown",
   "metadata": {},
   "source": [
    "Using **requests** library"
   ]
  },
  {
   "cell_type": "code",
   "execution_count": 51,
   "metadata": {
    "collapsed": true
   },
   "outputs": [],
   "source": [
    "import csv"
   ]
  },
  {
   "cell_type": "markdown",
   "metadata": {},
   "source": [
    "- key - First 4 entries in non-header lists describe the **location** in some manner\n",
    "- value - remaining entries describe the **division**, **date**, **time**, **desc**, **entries**, **exits**"
   ]
  },
  {
   "cell_type": "code",
   "execution_count": 52,
   "metadata": {
    "collapsed": false
   },
   "outputs": [],
   "source": [
    "turnstile_csv = [] # <<<<< BAD, do the transformations in one read through\n",
    "filename = \"/Users/ryanlambert/Downloads/turnstile_160116.txt\"\n",
    "with open(filename,\"rb\") as f:\n",
    "    reader = csv.reader(f, delimiter= ',')\n",
    "    for row in reader:\n",
    "        turnstile_csv.append(row)"
   ]
  },
  {
   "cell_type": "code",
   "execution_count": 53,
   "metadata": {
    "collapsed": false
   },
   "outputs": [],
   "source": [
    "def split_list_to_tuple_and_list(list_entry):\n",
    "    dict_key_tuple = tuple(list_entry[0:4])\n",
    "    dict_value = list_entry[4:]\n",
    "    return dict_key_tuple, dict_value\n",
    "\n",
    "def insert_key_value_pairs(dictionary, list_of_tuples):\n",
    "    for i in list_of_tuples:\n",
    "        dictionary[i[0]].append(i[1])\n",
    "\n",
    "def process_csv(csv_object, with_header=\"yes\"):\n",
    "    csv_object = \\\n",
    "    map(lambda entry: [i.strip(' ') for i in entry], csv_object)\n",
    "\n",
    "    if with_header == 'yes':\n",
    "        header = csv_object[0]\n",
    "        body = csv_object[1:]\n",
    "    else:\n",
    "        body = csv_object\n",
    "\n",
    "    body = map(split_list_to_tuple_and_list, body)\n",
    "    dictionary = {sample[0]:[] for sample in body}\n",
    "    \n",
    "    ### insert_key_value_pairs\n",
    "    insert_key_value_pairs(dictionary, body)\n",
    "    return dictionary\n",
    "\n",
    "turnstiles = process_csv(turnstile_csv, with_header='yes')"
   ]
  },
  {
   "cell_type": "code",
   "execution_count": 54,
   "metadata": {
    "collapsed": false
   },
   "outputs": [
    {
     "data": {
      "text/plain": [
       "(('N134', 'R385', '00-00-00', 'ROCKAWAY BLVD'),\n",
       " [['A',\n",
       "   'IND',\n",
       "   '01/09/2016',\n",
       "   '00:00:00',\n",
       "   'REGULAR',\n",
       "   '0007149652',\n",
       "   '0002870017'],\n",
       "  ['A',\n",
       "   'IND',\n",
       "   '01/09/2016',\n",
       "   '04:00:00',\n",
       "   'REGULAR',\n",
       "   '0007149683',\n",
       "   '0002870032'],\n",
       "  ['A',\n",
       "   'IND',\n",
       "   '01/09/2016',\n",
       "   '08:00:00',\n",
       "   'REGULAR',\n",
       "   '0007149792',\n",
       "   '0002870056'],\n",
       "  ['A',\n",
       "   'IND',\n",
       "   '01/09/2016',\n",
       "   '12:00:00',\n",
       "   'REGULAR',\n",
       "   '0007150011',\n",
       "   '0002870108'],\n",
       "  ['A',\n",
       "   'IND',\n",
       "   '01/09/2016',\n",
       "   '16:00:00',\n",
       "   'REGULAR',\n",
       "   '0007150180',\n",
       "   '0002870142'],\n",
       "  ['A',\n",
       "   'IND',\n",
       "   '01/09/2016',\n",
       "   '20:00:00',\n",
       "   'REGULAR',\n",
       "   '0007150339',\n",
       "   '0002870193'],\n",
       "  ['A',\n",
       "   'IND',\n",
       "   '01/10/2016',\n",
       "   '00:00:00',\n",
       "   'REGULAR',\n",
       "   '0007150447',\n",
       "   '0002870216'],\n",
       "  ['A',\n",
       "   'IND',\n",
       "   '01/10/2016',\n",
       "   '04:00:00',\n",
       "   'REGULAR',\n",
       "   '0007150469',\n",
       "   '0002870227'],\n",
       "  ['A',\n",
       "   'IND',\n",
       "   '01/10/2016',\n",
       "   '08:00:00',\n",
       "   'REGULAR',\n",
       "   '0007150526',\n",
       "   '0002870240'],\n",
       "  ['A',\n",
       "   'IND',\n",
       "   '01/10/2016',\n",
       "   '12:00:00',\n",
       "   'REGULAR',\n",
       "   '0007150635',\n",
       "   '0002870268'],\n",
       "  ['A',\n",
       "   'IND',\n",
       "   '01/10/2016',\n",
       "   '16:00:00',\n",
       "   'REGULAR',\n",
       "   '0007150764',\n",
       "   '0002870300'],\n",
       "  ['A',\n",
       "   'IND',\n",
       "   '01/10/2016',\n",
       "   '20:00:00',\n",
       "   'REGULAR',\n",
       "   '0007150884',\n",
       "   '0002870338'],\n",
       "  ['A',\n",
       "   'IND',\n",
       "   '01/11/2016',\n",
       "   '00:00:00',\n",
       "   'REGULAR',\n",
       "   '0007150953',\n",
       "   '0002870363'],\n",
       "  ['A',\n",
       "   'IND',\n",
       "   '01/11/2016',\n",
       "   '04:00:00',\n",
       "   'REGULAR',\n",
       "   '0007150967',\n",
       "   '0002870369'],\n",
       "  ['A',\n",
       "   'IND',\n",
       "   '01/11/2016',\n",
       "   '08:00:00',\n",
       "   'REGULAR',\n",
       "   '0007151420',\n",
       "   '0002870417'],\n",
       "  ['A',\n",
       "   'IND',\n",
       "   '01/11/2016',\n",
       "   '12:00:00',\n",
       "   'REGULAR',\n",
       "   '0007151770',\n",
       "   '0002870463'],\n",
       "  ['A',\n",
       "   'IND',\n",
       "   '01/11/2016',\n",
       "   '16:00:00',\n",
       "   'REGULAR',\n",
       "   '0007151988',\n",
       "   '0002870509'],\n",
       "  ['A',\n",
       "   'IND',\n",
       "   '01/11/2016',\n",
       "   '20:00:00',\n",
       "   'REGULAR',\n",
       "   '0007152186',\n",
       "   '0002870589'],\n",
       "  ['A',\n",
       "   'IND',\n",
       "   '01/12/2016',\n",
       "   '00:00:00',\n",
       "   'REGULAR',\n",
       "   '0007152286',\n",
       "   '0002870627'],\n",
       "  ['A',\n",
       "   'IND',\n",
       "   '01/12/2016',\n",
       "   '04:00:00',\n",
       "   'REGULAR',\n",
       "   '0007152300',\n",
       "   '0002870639'],\n",
       "  ['A',\n",
       "   'IND',\n",
       "   '01/12/2016',\n",
       "   '08:00:00',\n",
       "   'REGULAR',\n",
       "   '0007152768',\n",
       "   '0002870682'],\n",
       "  ['A',\n",
       "   'IND',\n",
       "   '01/12/2016',\n",
       "   '12:00:00',\n",
       "   'REGULAR',\n",
       "   '0007153103',\n",
       "   '0002870744'],\n",
       "  ['A',\n",
       "   'IND',\n",
       "   '01/12/2016',\n",
       "   '16:00:00',\n",
       "   'REGULAR',\n",
       "   '0007153342',\n",
       "   '0002870790'],\n",
       "  ['A',\n",
       "   'IND',\n",
       "   '01/12/2016',\n",
       "   '20:00:00',\n",
       "   'REGULAR',\n",
       "   '0007153555',\n",
       "   '0002870901'],\n",
       "  ['A',\n",
       "   'IND',\n",
       "   '01/13/2016',\n",
       "   '00:00:00',\n",
       "   'REGULAR',\n",
       "   '0007153658',\n",
       "   '0002870934'],\n",
       "  ['A',\n",
       "   'IND',\n",
       "   '01/13/2016',\n",
       "   '04:00:00',\n",
       "   'REGULAR',\n",
       "   '0007153676',\n",
       "   '0002870945'],\n",
       "  ['A',\n",
       "   'IND',\n",
       "   '01/13/2016',\n",
       "   '08:00:00',\n",
       "   'REGULAR',\n",
       "   '0007154104',\n",
       "   '0002870987'],\n",
       "  ['A',\n",
       "   'IND',\n",
       "   '01/13/2016',\n",
       "   '08:20:42',\n",
       "   'REGULAR',\n",
       "   '0007154173',\n",
       "   '0002870997'],\n",
       "  ['A',\n",
       "   'IND',\n",
       "   '01/13/2016',\n",
       "   '08:56:02',\n",
       "   'REGULAR',\n",
       "   '0007154265',\n",
       "   '0002871004'],\n",
       "  ['A',\n",
       "   'IND',\n",
       "   '01/13/2016',\n",
       "   '08:57:44',\n",
       "   'REGULAR',\n",
       "   '0007154272',\n",
       "   '0002871004'],\n",
       "  ['A',\n",
       "   'IND',\n",
       "   '01/13/2016',\n",
       "   '12:00:00',\n",
       "   'REGULAR',\n",
       "   '0007154451',\n",
       "   '0002871032'],\n",
       "  ['A',\n",
       "   'IND',\n",
       "   '01/13/2016',\n",
       "   '16:00:00',\n",
       "   'REGULAR',\n",
       "   '0007154681',\n",
       "   '0002871081'],\n",
       "  ['A',\n",
       "   'IND',\n",
       "   '01/13/2016',\n",
       "   '20:00:00',\n",
       "   'REGULAR',\n",
       "   '0007154887',\n",
       "   '0002871169'],\n",
       "  ['A',\n",
       "   'IND',\n",
       "   '01/14/2016',\n",
       "   '00:00:00',\n",
       "   'REGULAR',\n",
       "   '0007154977',\n",
       "   '0002871209'],\n",
       "  ['A',\n",
       "   'IND',\n",
       "   '01/14/2016',\n",
       "   '04:00:00',\n",
       "   'REGULAR',\n",
       "   '0007154994',\n",
       "   '0002871214'],\n",
       "  ['A',\n",
       "   'IND',\n",
       "   '01/14/2016',\n",
       "   '08:00:00',\n",
       "   'REGULAR',\n",
       "   '0007155443',\n",
       "   '0002871263'],\n",
       "  ['A',\n",
       "   'IND',\n",
       "   '01/14/2016',\n",
       "   '12:00:00',\n",
       "   'REGULAR',\n",
       "   '0007155816',\n",
       "   '0002871316'],\n",
       "  ['A',\n",
       "   'IND',\n",
       "   '01/14/2016',\n",
       "   '16:00:00',\n",
       "   'REGULAR',\n",
       "   '0007156036',\n",
       "   '0002871373'],\n",
       "  ['A',\n",
       "   'IND',\n",
       "   '01/14/2016',\n",
       "   '20:00:00',\n",
       "   'REGULAR',\n",
       "   '0007156269',\n",
       "   '0002871480'],\n",
       "  ['A',\n",
       "   'IND',\n",
       "   '01/15/2016',\n",
       "   '00:00:00',\n",
       "   'REGULAR',\n",
       "   '0007156359',\n",
       "   '0002871512'],\n",
       "  ['A',\n",
       "   'IND',\n",
       "   '01/15/2016',\n",
       "   '04:00:00',\n",
       "   'REGULAR',\n",
       "   '0007156379',\n",
       "   '0002871526'],\n",
       "  ['A',\n",
       "   'IND',\n",
       "   '01/15/2016',\n",
       "   '08:00:00',\n",
       "   'REGULAR',\n",
       "   '0007156824',\n",
       "   '0002871572'],\n",
       "  ['A',\n",
       "   'IND',\n",
       "   '01/15/2016',\n",
       "   '12:00:00',\n",
       "   'REGULAR',\n",
       "   '0007157183',\n",
       "   '0002871610'],\n",
       "  ['A',\n",
       "   'IND',\n",
       "   '01/15/2016',\n",
       "   '16:00:00',\n",
       "   'REGULAR',\n",
       "   '0007157419',\n",
       "   '0002871661'],\n",
       "  ['A',\n",
       "   'IND',\n",
       "   '01/15/2016',\n",
       "   '20:00:00',\n",
       "   'REGULAR',\n",
       "   '0007157651',\n",
       "   '0002871751']])"
      ]
     },
     "execution_count": 54,
     "metadata": {},
     "output_type": "execute_result"
    }
   ],
   "source": [
    "turnstiles.iteritems().next()"
   ]
  },
  {
   "cell_type": "markdown",
   "metadata": {
    "collapsed": true
   },
   "source": [
    "# Challenge 2"
   ]
  },
  {
   "cell_type": "code",
   "execution_count": 55,
   "metadata": {
    "collapsed": false
   },
   "outputs": [],
   "source": [
    "import dateutil.parser\n",
    "import collections\n",
    "import datetime"
   ]
  },
  {
   "cell_type": "code",
   "execution_count": 56,
   "metadata": {
    "collapsed": false
   },
   "outputs": [
    {
     "data": {
      "text/plain": [
       "(('N134', 'R385', '00-00-00', 'ROCKAWAY BLVD'),\n",
       " [['A',\n",
       "   'IND',\n",
       "   '01/09/2016',\n",
       "   '00:00:00',\n",
       "   'REGULAR',\n",
       "   '0007149652',\n",
       "   '0002870017'],\n",
       "  ['A',\n",
       "   'IND',\n",
       "   '01/09/2016',\n",
       "   '04:00:00',\n",
       "   'REGULAR',\n",
       "   '0007149683',\n",
       "   '0002870032'],\n",
       "  ['A',\n",
       "   'IND',\n",
       "   '01/09/2016',\n",
       "   '08:00:00',\n",
       "   'REGULAR',\n",
       "   '0007149792',\n",
       "   '0002870056'],\n",
       "  ['A',\n",
       "   'IND',\n",
       "   '01/09/2016',\n",
       "   '12:00:00',\n",
       "   'REGULAR',\n",
       "   '0007150011',\n",
       "   '0002870108'],\n",
       "  ['A',\n",
       "   'IND',\n",
       "   '01/09/2016',\n",
       "   '16:00:00',\n",
       "   'REGULAR',\n",
       "   '0007150180',\n",
       "   '0002870142'],\n",
       "  ['A',\n",
       "   'IND',\n",
       "   '01/09/2016',\n",
       "   '20:00:00',\n",
       "   'REGULAR',\n",
       "   '0007150339',\n",
       "   '0002870193'],\n",
       "  ['A',\n",
       "   'IND',\n",
       "   '01/10/2016',\n",
       "   '00:00:00',\n",
       "   'REGULAR',\n",
       "   '0007150447',\n",
       "   '0002870216'],\n",
       "  ['A',\n",
       "   'IND',\n",
       "   '01/10/2016',\n",
       "   '04:00:00',\n",
       "   'REGULAR',\n",
       "   '0007150469',\n",
       "   '0002870227'],\n",
       "  ['A',\n",
       "   'IND',\n",
       "   '01/10/2016',\n",
       "   '08:00:00',\n",
       "   'REGULAR',\n",
       "   '0007150526',\n",
       "   '0002870240'],\n",
       "  ['A',\n",
       "   'IND',\n",
       "   '01/10/2016',\n",
       "   '12:00:00',\n",
       "   'REGULAR',\n",
       "   '0007150635',\n",
       "   '0002870268'],\n",
       "  ['A',\n",
       "   'IND',\n",
       "   '01/10/2016',\n",
       "   '16:00:00',\n",
       "   'REGULAR',\n",
       "   '0007150764',\n",
       "   '0002870300'],\n",
       "  ['A',\n",
       "   'IND',\n",
       "   '01/10/2016',\n",
       "   '20:00:00',\n",
       "   'REGULAR',\n",
       "   '0007150884',\n",
       "   '0002870338'],\n",
       "  ['A',\n",
       "   'IND',\n",
       "   '01/11/2016',\n",
       "   '00:00:00',\n",
       "   'REGULAR',\n",
       "   '0007150953',\n",
       "   '0002870363'],\n",
       "  ['A',\n",
       "   'IND',\n",
       "   '01/11/2016',\n",
       "   '04:00:00',\n",
       "   'REGULAR',\n",
       "   '0007150967',\n",
       "   '0002870369'],\n",
       "  ['A',\n",
       "   'IND',\n",
       "   '01/11/2016',\n",
       "   '08:00:00',\n",
       "   'REGULAR',\n",
       "   '0007151420',\n",
       "   '0002870417'],\n",
       "  ['A',\n",
       "   'IND',\n",
       "   '01/11/2016',\n",
       "   '12:00:00',\n",
       "   'REGULAR',\n",
       "   '0007151770',\n",
       "   '0002870463'],\n",
       "  ['A',\n",
       "   'IND',\n",
       "   '01/11/2016',\n",
       "   '16:00:00',\n",
       "   'REGULAR',\n",
       "   '0007151988',\n",
       "   '0002870509'],\n",
       "  ['A',\n",
       "   'IND',\n",
       "   '01/11/2016',\n",
       "   '20:00:00',\n",
       "   'REGULAR',\n",
       "   '0007152186',\n",
       "   '0002870589'],\n",
       "  ['A',\n",
       "   'IND',\n",
       "   '01/12/2016',\n",
       "   '00:00:00',\n",
       "   'REGULAR',\n",
       "   '0007152286',\n",
       "   '0002870627'],\n",
       "  ['A',\n",
       "   'IND',\n",
       "   '01/12/2016',\n",
       "   '04:00:00',\n",
       "   'REGULAR',\n",
       "   '0007152300',\n",
       "   '0002870639'],\n",
       "  ['A',\n",
       "   'IND',\n",
       "   '01/12/2016',\n",
       "   '08:00:00',\n",
       "   'REGULAR',\n",
       "   '0007152768',\n",
       "   '0002870682'],\n",
       "  ['A',\n",
       "   'IND',\n",
       "   '01/12/2016',\n",
       "   '12:00:00',\n",
       "   'REGULAR',\n",
       "   '0007153103',\n",
       "   '0002870744'],\n",
       "  ['A',\n",
       "   'IND',\n",
       "   '01/12/2016',\n",
       "   '16:00:00',\n",
       "   'REGULAR',\n",
       "   '0007153342',\n",
       "   '0002870790'],\n",
       "  ['A',\n",
       "   'IND',\n",
       "   '01/12/2016',\n",
       "   '20:00:00',\n",
       "   'REGULAR',\n",
       "   '0007153555',\n",
       "   '0002870901'],\n",
       "  ['A',\n",
       "   'IND',\n",
       "   '01/13/2016',\n",
       "   '00:00:00',\n",
       "   'REGULAR',\n",
       "   '0007153658',\n",
       "   '0002870934'],\n",
       "  ['A',\n",
       "   'IND',\n",
       "   '01/13/2016',\n",
       "   '04:00:00',\n",
       "   'REGULAR',\n",
       "   '0007153676',\n",
       "   '0002870945'],\n",
       "  ['A',\n",
       "   'IND',\n",
       "   '01/13/2016',\n",
       "   '08:00:00',\n",
       "   'REGULAR',\n",
       "   '0007154104',\n",
       "   '0002870987'],\n",
       "  ['A',\n",
       "   'IND',\n",
       "   '01/13/2016',\n",
       "   '08:20:42',\n",
       "   'REGULAR',\n",
       "   '0007154173',\n",
       "   '0002870997'],\n",
       "  ['A',\n",
       "   'IND',\n",
       "   '01/13/2016',\n",
       "   '08:56:02',\n",
       "   'REGULAR',\n",
       "   '0007154265',\n",
       "   '0002871004'],\n",
       "  ['A',\n",
       "   'IND',\n",
       "   '01/13/2016',\n",
       "   '08:57:44',\n",
       "   'REGULAR',\n",
       "   '0007154272',\n",
       "   '0002871004'],\n",
       "  ['A',\n",
       "   'IND',\n",
       "   '01/13/2016',\n",
       "   '12:00:00',\n",
       "   'REGULAR',\n",
       "   '0007154451',\n",
       "   '0002871032'],\n",
       "  ['A',\n",
       "   'IND',\n",
       "   '01/13/2016',\n",
       "   '16:00:00',\n",
       "   'REGULAR',\n",
       "   '0007154681',\n",
       "   '0002871081'],\n",
       "  ['A',\n",
       "   'IND',\n",
       "   '01/13/2016',\n",
       "   '20:00:00',\n",
       "   'REGULAR',\n",
       "   '0007154887',\n",
       "   '0002871169'],\n",
       "  ['A',\n",
       "   'IND',\n",
       "   '01/14/2016',\n",
       "   '00:00:00',\n",
       "   'REGULAR',\n",
       "   '0007154977',\n",
       "   '0002871209'],\n",
       "  ['A',\n",
       "   'IND',\n",
       "   '01/14/2016',\n",
       "   '04:00:00',\n",
       "   'REGULAR',\n",
       "   '0007154994',\n",
       "   '0002871214'],\n",
       "  ['A',\n",
       "   'IND',\n",
       "   '01/14/2016',\n",
       "   '08:00:00',\n",
       "   'REGULAR',\n",
       "   '0007155443',\n",
       "   '0002871263'],\n",
       "  ['A',\n",
       "   'IND',\n",
       "   '01/14/2016',\n",
       "   '12:00:00',\n",
       "   'REGULAR',\n",
       "   '0007155816',\n",
       "   '0002871316'],\n",
       "  ['A',\n",
       "   'IND',\n",
       "   '01/14/2016',\n",
       "   '16:00:00',\n",
       "   'REGULAR',\n",
       "   '0007156036',\n",
       "   '0002871373'],\n",
       "  ['A',\n",
       "   'IND',\n",
       "   '01/14/2016',\n",
       "   '20:00:00',\n",
       "   'REGULAR',\n",
       "   '0007156269',\n",
       "   '0002871480'],\n",
       "  ['A',\n",
       "   'IND',\n",
       "   '01/15/2016',\n",
       "   '00:00:00',\n",
       "   'REGULAR',\n",
       "   '0007156359',\n",
       "   '0002871512'],\n",
       "  ['A',\n",
       "   'IND',\n",
       "   '01/15/2016',\n",
       "   '04:00:00',\n",
       "   'REGULAR',\n",
       "   '0007156379',\n",
       "   '0002871526'],\n",
       "  ['A',\n",
       "   'IND',\n",
       "   '01/15/2016',\n",
       "   '08:00:00',\n",
       "   'REGULAR',\n",
       "   '0007156824',\n",
       "   '0002871572'],\n",
       "  ['A',\n",
       "   'IND',\n",
       "   '01/15/2016',\n",
       "   '12:00:00',\n",
       "   'REGULAR',\n",
       "   '0007157183',\n",
       "   '0002871610'],\n",
       "  ['A',\n",
       "   'IND',\n",
       "   '01/15/2016',\n",
       "   '16:00:00',\n",
       "   'REGULAR',\n",
       "   '0007157419',\n",
       "   '0002871661'],\n",
       "  ['A',\n",
       "   'IND',\n",
       "   '01/15/2016',\n",
       "   '20:00:00',\n",
       "   'REGULAR',\n",
       "   '0007157651',\n",
       "   '0002871751']])"
      ]
     },
     "execution_count": 56,
     "metadata": {},
     "output_type": "execute_result"
    }
   ],
   "source": [
    "turnstiles.iteritems().next()"
   ]
  },
  {
   "cell_type": "code",
   "execution_count": 58,
   "metadata": {
    "collapsed": false
   },
   "outputs": [],
   "source": [
    "turnstile_entries = turnstiles.values()\n",
    "\n",
    "### Converting dates to datetime objects\n",
    "for index_entry, entry in enumerate(turnstile_entries):\n",
    "    for index_record, record in enumerate(entry):\n",
    "        if type(record[2]) == datetime.datetime:\n",
    "            continue\n",
    "        temp = turnstile_entries[index_entry][index_record][2]\n",
    "        turnstile_entries[index_entry][index_record][2] = dateutil.parser.parse(temp)\n",
    "\n",
    "### Now let's delete the items we don't need\n",
    "for index_entry, entry in enumerate(turnstile_entries):\n",
    "    for index_record, record in enumerate(entry):\n",
    "\n",
    "        del turnstile_entries[index_entry][index_record][0] \n",
    "        del turnstile_entries[index_entry][index_record][0] \n",
    "        del turnstile_entries[index_entry][index_record][2]          \n",
    "        del turnstile_entries[index_entry][index_record][-2]\n",
    "#         print temp\n",
    "#         print type(record[2])\n",
    "#         print dateutil.parser.parse(record[2])\n",
    "#         print type(record[2])\n",
    "        \n"
   ]
  },
  {
   "cell_type": "code",
   "execution_count": null,
   "metadata": {
    "collapsed": false
   },
   "outputs": [],
   "source": []
  },
  {
   "cell_type": "code",
   "execution_count": 47,
   "metadata": {
    "collapsed": false
   },
   "outputs": [],
   "source": [
    "for index, record in enumerate(data):\n",
    "    data[index] = dateutil.parser.parse(str(record[0]).split(' ')[0] + ' ' + record[1])"
   ]
  },
  {
   "cell_type": "code",
   "execution_count": 48,
   "metadata": {
    "collapsed": true
   },
   "outputs": [
    {
     "data": {
      "text/plain": [
       "[datetime.datetime(2016, 1, 9, 0, 0),\n",
       " datetime.datetime(2016, 1, 9, 4, 0),\n",
       " datetime.datetime(2016, 1, 9, 8, 0),\n",
       " datetime.datetime(2016, 1, 9, 12, 0),\n",
       " datetime.datetime(2016, 1, 9, 16, 0),\n",
       " datetime.datetime(2016, 1, 9, 20, 0),\n",
       " datetime.datetime(2016, 1, 10, 0, 0),\n",
       " datetime.datetime(2016, 1, 10, 4, 0),\n",
       " datetime.datetime(2016, 1, 10, 8, 0),\n",
       " datetime.datetime(2016, 1, 10, 12, 0),\n",
       " datetime.datetime(2016, 1, 10, 16, 0),\n",
       " datetime.datetime(2016, 1, 10, 20, 0),\n",
       " datetime.datetime(2016, 1, 11, 0, 0),\n",
       " datetime.datetime(2016, 1, 11, 4, 0),\n",
       " datetime.datetime(2016, 1, 11, 8, 0),\n",
       " datetime.datetime(2016, 1, 11, 12, 0),\n",
       " datetime.datetime(2016, 1, 11, 16, 0),\n",
       " datetime.datetime(2016, 1, 11, 20, 0),\n",
       " datetime.datetime(2016, 1, 12, 0, 0),\n",
       " datetime.datetime(2016, 1, 12, 4, 0),\n",
       " datetime.datetime(2016, 1, 12, 8, 0),\n",
       " datetime.datetime(2016, 1, 12, 12, 0),\n",
       " datetime.datetime(2016, 1, 12, 16, 0),\n",
       " datetime.datetime(2016, 1, 12, 20, 0),\n",
       " datetime.datetime(2016, 1, 13, 0, 0),\n",
       " datetime.datetime(2016, 1, 13, 4, 0),\n",
       " datetime.datetime(2016, 1, 13, 8, 0),\n",
       " datetime.datetime(2016, 1, 13, 8, 20, 42),\n",
       " datetime.datetime(2016, 1, 13, 8, 56, 2),\n",
       " datetime.datetime(2016, 1, 13, 8, 57, 44),\n",
       " datetime.datetime(2016, 1, 13, 12, 0),\n",
       " datetime.datetime(2016, 1, 13, 16, 0),\n",
       " datetime.datetime(2016, 1, 13, 20, 0),\n",
       " datetime.datetime(2016, 1, 14, 0, 0),\n",
       " datetime.datetime(2016, 1, 14, 4, 0),\n",
       " datetime.datetime(2016, 1, 14, 8, 0),\n",
       " datetime.datetime(2016, 1, 14, 12, 0),\n",
       " datetime.datetime(2016, 1, 14, 16, 0),\n",
       " datetime.datetime(2016, 1, 14, 20, 0),\n",
       " datetime.datetime(2016, 1, 15, 0, 0),\n",
       " datetime.datetime(2016, 1, 15, 4, 0),\n",
       " datetime.datetime(2016, 1, 15, 8, 0),\n",
       " datetime.datetime(2016, 1, 15, 12, 0),\n",
       " datetime.datetime(2016, 1, 15, 16, 0),\n",
       " datetime.datetime(2016, 1, 15, 20, 0)]"
      ]
     },
     "execution_count": 48,
     "metadata": {},
     "output_type": "execute_result"
    }
   ],
   "source": [
    "data"
   ]
  },
  {
   "cell_type": "code",
   "execution_count": 33,
   "metadata": {
    "collapsed": false
   },
   "outputs": [
    {
     "data": {
      "text/plain": [
       "datetime.datetime(2016, 1, 9, 0, 0)"
      ]
     },
     "execution_count": 33,
     "metadata": {},
     "output_type": "execute_result"
    }
   ],
   "source": [
    "dateutil.parser.parse(str(data[0][0]).split(' ')[0] + ' ' + data[0][1])"
   ]
  },
  {
   "cell_type": "code",
   "execution_count": null,
   "metadata": {
    "collapsed": true
   },
   "outputs": [],
   "source": []
  },
  {
   "cell_type": "code",
   "execution_count": null,
   "metadata": {
    "collapsed": true
   },
   "outputs": [],
   "source": []
  },
  {
   "cell_type": "code",
   "execution_count": null,
   "metadata": {
    "collapsed": true
   },
   "outputs": [],
   "source": []
  },
  {
   "cell_type": "code",
   "execution_count": null,
   "metadata": {
    "collapsed": true
   },
   "outputs": [],
   "source": []
  },
  {
   "cell_type": "markdown",
   "metadata": {},
   "source": [
    "# Challenge 3"
   ]
  },
  {
   "cell_type": "code",
   "execution_count": null,
   "metadata": {
    "collapsed": true
   },
   "outputs": [],
   "source": [
    "one_turnstile = turnstiles.iteritems().next()\n",
    "one_turnstile"
   ]
  },
  {
   "cell_type": "code",
   "execution_count": null,
   "metadata": {
    "collapsed": false
   },
   "outputs": [],
   "source": [
    "def sort_and_aggregate(data):\n",
    "    data.sort()\n",
    "    day_counts = []\n",
    "    \n",
    "    today = data[0][0].date() \n",
    "    ticker_baseline = data[0][1] \n",
    "    for time_stamp, ticker in data: \n",
    "        day = time_stamp.date() \n",
    "        if day != today:\n",
    "            ticker_count = int(ticker) - int(ticker_baseline)\n",
    "            day_counts.append((today, ticker_count))\n",
    "            today = day\n",
    "            ticker_baseline = ticker\n",
    "    return day_counts\n",
    "sort_and_aggregate(data)"
   ]
  },
  {
   "cell_type": "code",
   "execution_count": null,
   "metadata": {
    "collapsed": false
   },
   "outputs": [],
   "source": [
    "turnstile_key, turnstile_data = turnstiles.iteritems().next()\n",
    "sort_and_aggregate(turnstile_data)"
   ]
  },
  {
   "cell_type": "code",
   "execution_count": null,
   "metadata": {
    "collapsed": false
   },
   "outputs": [],
   "source": [
    "turnstiles.values()"
   ]
  },
  {
   "cell_type": "code",
   "execution_count": null,
   "metadata": {
    "collapsed": true
   },
   "outputs": [],
   "source": []
  },
  {
   "cell_type": "code",
   "execution_count": null,
   "metadata": {
    "collapsed": true
   },
   "outputs": [],
   "source": []
  },
  {
   "cell_type": "code",
   "execution_count": null,
   "metadata": {
    "collapsed": true
   },
   "outputs": [],
   "source": []
  },
  {
   "cell_type": "code",
   "execution_count": null,
   "metadata": {
    "collapsed": true
   },
   "outputs": [],
   "source": []
  },
  {
   "cell_type": "code",
   "execution_count": null,
   "metadata": {
    "collapsed": true
   },
   "outputs": [],
   "source": []
  },
  {
   "cell_type": "code",
   "execution_count": null,
   "metadata": {
    "collapsed": true
   },
   "outputs": [],
   "source": []
  },
  {
   "cell_type": "code",
   "execution_count": null,
   "metadata": {
    "collapsed": true
   },
   "outputs": [],
   "source": []
  },
  {
   "cell_type": "code",
   "execution_count": null,
   "metadata": {
    "collapsed": true
   },
   "outputs": [],
   "source": []
  },
  {
   "cell_type": "code",
   "execution_count": null,
   "metadata": {
    "collapsed": true
   },
   "outputs": [],
   "source": []
  },
  {
   "cell_type": "code",
   "execution_count": null,
   "metadata": {
    "collapsed": true
   },
   "outputs": [],
   "source": []
  },
  {
   "cell_type": "code",
   "execution_count": null,
   "metadata": {
    "collapsed": true
   },
   "outputs": [],
   "source": []
  },
  {
   "cell_type": "code",
   "execution_count": null,
   "metadata": {
    "collapsed": true
   },
   "outputs": [],
   "source": []
  },
  {
   "cell_type": "code",
   "execution_count": null,
   "metadata": {
    "collapsed": true
   },
   "outputs": [],
   "source": []
  },
  {
   "cell_type": "code",
   "execution_count": null,
   "metadata": {
    "collapsed": true
   },
   "outputs": [],
   "source": []
  },
  {
   "cell_type": "code",
   "execution_count": null,
   "metadata": {
    "collapsed": true
   },
   "outputs": [],
   "source": []
  },
  {
   "cell_type": "code",
   "execution_count": null,
   "metadata": {
    "collapsed": true
   },
   "outputs": [],
   "source": []
  },
  {
   "cell_type": "code",
   "execution_count": null,
   "metadata": {
    "collapsed": true
   },
   "outputs": [],
   "source": []
  },
  {
   "cell_type": "code",
   "execution_count": null,
   "metadata": {
    "collapsed": true
   },
   "outputs": [],
   "source": []
  },
  {
   "cell_type": "code",
   "execution_count": null,
   "metadata": {
    "collapsed": true
   },
   "outputs": [],
   "source": []
  },
  {
   "cell_type": "code",
   "execution_count": null,
   "metadata": {
    "collapsed": true
   },
   "outputs": [],
   "source": []
  },
  {
   "cell_type": "code",
   "execution_count": null,
   "metadata": {
    "collapsed": true
   },
   "outputs": [],
   "source": []
  },
  {
   "cell_type": "code",
   "execution_count": null,
   "metadata": {
    "collapsed": true
   },
   "outputs": [],
   "source": []
  },
  {
   "cell_type": "code",
   "execution_count": null,
   "metadata": {
    "collapsed": true
   },
   "outputs": [],
   "source": []
  },
  {
   "cell_type": "code",
   "execution_count": null,
   "metadata": {
    "collapsed": true
   },
   "outputs": [],
   "source": []
  },
  {
   "cell_type": "code",
   "execution_count": null,
   "metadata": {
    "collapsed": true
   },
   "outputs": [],
   "source": []
  },
  {
   "cell_type": "code",
   "execution_count": null,
   "metadata": {
    "collapsed": true
   },
   "outputs": [],
   "source": []
  },
  {
   "cell_type": "code",
   "execution_count": null,
   "metadata": {
    "collapsed": true
   },
   "outputs": [],
   "source": []
  },
  {
   "cell_type": "code",
   "execution_count": null,
   "metadata": {
    "collapsed": true
   },
   "outputs": [],
   "source": []
  },
  {
   "cell_type": "code",
   "execution_count": null,
   "metadata": {
    "collapsed": true
   },
   "outputs": [],
   "source": []
  },
  {
   "cell_type": "code",
   "execution_count": null,
   "metadata": {
    "collapsed": true
   },
   "outputs": [],
   "source": []
  },
  {
   "cell_type": "code",
   "execution_count": null,
   "metadata": {
    "collapsed": true
   },
   "outputs": [],
   "source": []
  },
  {
   "cell_type": "code",
   "execution_count": null,
   "metadata": {
    "collapsed": true
   },
   "outputs": [],
   "source": []
  },
  {
   "cell_type": "code",
   "execution_count": null,
   "metadata": {
    "collapsed": true
   },
   "outputs": [],
   "source": []
  },
  {
   "cell_type": "code",
   "execution_count": null,
   "metadata": {
    "collapsed": true
   },
   "outputs": [],
   "source": []
  },
  {
   "cell_type": "code",
   "execution_count": null,
   "metadata": {
    "collapsed": true
   },
   "outputs": [],
   "source": []
  },
  {
   "cell_type": "code",
   "execution_count": null,
   "metadata": {
    "collapsed": true
   },
   "outputs": [],
   "source": []
  },
  {
   "cell_type": "code",
   "execution_count": null,
   "metadata": {
    "collapsed": true
   },
   "outputs": [],
   "source": []
  }
 ],
 "metadata": {
  "kernelspec": {
   "display_name": "Python 2",
   "language": "python",
   "name": "python2"
  },
  "language_info": {
   "codemirror_mode": {
    "name": "ipython",
    "version": 2
   },
   "file_extension": ".py",
   "mimetype": "text/x-python",
   "name": "python",
   "nbconvert_exporter": "python",
   "pygments_lexer": "ipython2",
   "version": "2.7.9"
  }
 },
 "nbformat": 4,
 "nbformat_minor": 0
}
