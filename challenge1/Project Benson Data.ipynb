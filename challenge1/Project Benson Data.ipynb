{
 "cells": [
  {
   "cell_type": "code",
   "execution_count": 3,
   "metadata": {
    "collapsed": false
   },
   "outputs": [],
   "source": [
    "import pandas as pd\n",
    "import matplotlib.pyplot as plt\n",
    "import numpy as np\n",
    "import datetime\n",
    "import urllib2\n",
    "%matplotlib inline"
   ]
  },
  {
   "cell_type": "code",
   "execution_count": 4,
   "metadata": {
    "collapsed": false
   },
   "outputs": [],
   "source": [
    "import dateutil.parser\n",
    "mta_url_1 = \"http://web.mta.info/developers/data/nyct/turnstile/turnstile_150606.txt\"\n",
    "mta_url_2 =\"http://web.mta.info/developers/data/nyct/turnstile/turnstile_150613.txt\"\n",
    "mta_url_3 =\"http://web.mta.info/developers/data/nyct/turnstile/turnstile_150620.txt\"\n",
    "mta_url_4 =\"http://web.mta.info/developers/data/nyct/turnstile/turnstile_150627.txt\"\n",
    "mta_url_5 =\"http://web.mta.info/developers/data/nyct/turnstile/turnstile_150704.txt\"\n",
    "mta_url_6 =\"http://web.mta.info/developers/data/nyct/turnstile/turnstile_150711.txt\"\n",
    "mta_url_7 =\"http://web.mta.info/developers/data/nyct/turnstile/turnstile_150718.txt\"\n",
    "mta_url_8 =\"http://web.mta.info/developers/data/nyct/turnstile/turnstile_150725.txt\"\n",
    "mta_url_9 =\"http://web.mta.info/developers/data/nyct/turnstile/turnstile_150801.txt\"\n",
    "mta_url_10 =\"http://web.mta.info/developers/data/nyct/turnstile/turnstile_150808.txt\"\n",
    "mta_url_11 =\"http://web.mta.info/developers/data/nyct/turnstile/turnstile_150815.txt\"\n",
    "mta_url_12 =\"http://web.mta.info/developers/data/nyct/turnstile/turnstile_150822.txt\"\n",
    "mta_url_13 =\"http://web.mta.info/developers/data/nyct/turnstile/turnstile_150829.txt\"\n",
    "\n",
    "data_1 = urllib2.urlopen(mta_url_1)\n",
    "data_2 = urllib2.urlopen(mta_url_2)\n",
    "data_3 = urllib2.urlopen(mta_url_3)\n",
    "data_4 = urllib2.urlopen(mta_url_4)\n",
    "data_5 = urllib2.urlopen(mta_url_5)\n",
    "data_6 = urllib2.urlopen(mta_url_6)\n",
    "data_7 = urllib2.urlopen(mta_url_7)\n",
    "data_8 = urllib2.urlopen(mta_url_8)\n",
    "data_9 = urllib2.urlopen(mta_url_9)\n",
    "data_10 = urllib2.urlopen(mta_url_10)\n",
    "data_11 = urllib2.urlopen(mta_url_11)\n",
    "data_12 = urllib2.urlopen(mta_url_12)\n",
    "data_13 = urllib2.urlopen(mta_url_13)\n",
    "\n",
    "\n",
    "# new_data_1 = [x.strip() for x in data_1]\n",
    "# new_data_2 = [x.strip() for x in data_2]\n",
    "# new_data_3 = [x.strip() for x in data_3]\n",
    "# new_data_4 = [x.strip() for x in data_4]\n",
    "# new_data_5 = [x.strip() for x in data_5]\n",
    "# new_data_6 = [x.strip() for x in data_6]\n",
    "# new_data_7 = [x.strip() for x in data_7]\n",
    "# new_data_8 = [x.strip() for x in data_8]\n",
    "# new_data_9 = [x.strip() for x in data_9]\n",
    "# new_data_10 = [x.strip() for x in data_10]\n",
    "# new_data_11 = [x.strip() for x in data_11]\n",
    "# new_data_12 = [x.strip() for x in data_12]\n",
    "# new_data_13 = [x.strip() for x in data_13]\n",
    "\n",
    "new_data_1 = [\n",
    "    [x.strip() for x in data_1],\n",
    "    [x.strip() for x in data_2],\n",
    "    [x.strip() for x in data_3],\n",
    "    [x.strip() for x in data_4],\n",
    "    [x.strip() for x in data_5],\n",
    "    [x.strip() for x in data_6],\n",
    "    [x.strip() for x in data_7],\n",
    "    [x.strip() for x in data_8],\n",
    "    [x.strip() for x in data_9],\n",
    "    [x.strip() for x in data_10],\n",
    "    [x.strip() for x in data_11],\n",
    "    [x.strip() for x in data_12],\n",
    "    [x.strip() for x in data_13]\n",
    "    ]\n",
    "\n",
    "# data = new_data_1[1:] + new_data_2[1:] \n",
    "\n",
    "def add_things(list_of_data):\n",
    "    data = []\n",
    "    for i in list_of_data:\n",
    "        data += i[1:]        \n",
    "    return data\n",
    "\n",
    "data = add_things(new_data_1)\n",
    " \n",
    "\n",
    "## create list which contains list elemtents (value_list)\n",
    "lists_of_list = []\n",
    "def list_of_dictval(data):\n",
    "  for item in data:\n",
    "    rowlist = item.split(\",\")\n",
    "    tuple_key = tuple(rowlist[:4])\n",
    "    date_time = rowlist[-5] + \" \" + rowlist[-4]\n",
    "    date_time = dateutil.parser.parse(date_time)\n",
    "    entries = int(rowlist[-1])\n",
    "    value_list = []\n",
    "    value_list.append(tuple_key)\n",
    "    value_list.append(date_time)\n",
    "    value_list.append(entries)\n",
    "    lists_of_list.append(value_list)\n",
    "\n",
    "\n",
    "\n",
    "## append prior period cumulative entries to current list\n",
    "def append_prior_cum_entries(lists_of_list):\n",
    "  cnt = 0 \n",
    "  for item in lists_of_list:\n",
    "    if cnt == 0:\n",
    "      lists_of_list[cnt].append(1)\n",
    "    elif lists_of_list[cnt][0] == lists_of_list[cnt-1][0]:\n",
    "      lists_of_list[cnt].append(lists_of_list[cnt-1][2])\n",
    "    else:\n",
    "      lists_of_list[cnt].append(1) \n",
    "    cnt = cnt + 1\n",
    "\n",
    "## take difference between two cum entries to get count of entries\n",
    "def append_count_entries(lists_of_list):\n",
    "  cnt = 0\n",
    "  for item in lists_of_list:\n",
    "    if cnt == 0:\n",
    "      lists_of_list[cnt].append(0)\n",
    "    elif lists_of_list[cnt][0] == lists_of_list[cnt-1][0]:\n",
    "      lists_of_list[cnt].append((lists_of_list[cnt][2] - lists_of_list[cnt][3]))\n",
    "    else:\n",
    "      lists_of_list[cnt].append(0) \n",
    "    cnt = cnt + 1\n",
    "\n",
    "## create the dictionary with keys with empty list values\n",
    "mta_ts_dict = {}\n",
    "def insert_dict_keys(lists_of_list):\n",
    "  for item in lists_of_list:\n",
    "    key = item[0]\n",
    "    mta_ts_dict[key] = []\n",
    "  return mta_ts_dict\n",
    "\n",
    "## populate the values for each key\n",
    "def mta_time_series_dict(lists_of_list):\n",
    "  cnt = 0\n",
    "  for item in lists_of_list:\n",
    "    key = lists_of_list[cnt][0]\n",
    "    vlist = []\n",
    "    vlist.append(item[1])\n",
    "    vlist.append(item[-1])  \n",
    "    if key in mta_ts_dict:\n",
    "      mta_ts_dict[key].append(vlist)\n",
    "    cnt = cnt + 1\n",
    "  return mta_ts_dict\n",
    "\n",
    "list_of_dictval(data)\n",
    "append_prior_cum_entries(lists_of_list)\n",
    "append_count_entries(lists_of_list)\n",
    "insert_dict_keys(lists_of_list)\n",
    "\n",
    "cum_exits = mta_time_series_dict(lists_of_list)"
   ]
  },
  {
   "cell_type": "code",
   "execution_count": 9,
   "metadata": {
    "collapsed": false
   },
   "outputs": [],
   "source": [
    "# turnstile, series = cum_exits.iteritems().next()"
   ]
  },
  {
   "cell_type": "code",
   "execution_count": 10,
   "metadata": {
    "collapsed": false
   },
   "outputs": [
    {
     "data": {
      "text/plain": [
       "'A030_R083_01-06-00'"
      ]
     },
     "execution_count": 10,
     "metadata": {},
     "output_type": "execute_result"
    }
   ],
   "source": [
    "# key = '_'.join(turnstile[:3])\n",
    "# key"
   ]
  },
  {
   "cell_type": "code",
   "execution_count": 169,
   "metadata": {
    "collapsed": false
   },
   "outputs": [
    {
     "name": "stdout",
     "output_type": "stream",
     "text": [
      "ERROR! Session/line number was not unique in database. History logging moved to new session 743\n"
     ]
    }
   ],
   "source": [
    "# make an empty list\n",
    "list_of_turnstile_sets = []\n",
    "# for each turnstile, do this to it and add it to your list\n",
    "for turnstile, data in cum_exits.iteritems():\n",
    "    key = '_'.join(turnstile[:3])\n",
    "    turnstile_set = [{'key':key,'timetamp':timestamp,'count':count} for timestamp, count in data]\n",
    "    list_of_turnstile_sets += turnstile_set\n",
    "\n",
    "# then make the df from the big list\n",
    "# clean outliers\n",
    "df = pd.DataFrame(list_of_turnstile_sets)\n",
    "df2 = df[(df['count'] <= 2e4) & (df['count'] > 0 ) ]\n",
    "df3 = df2.set_index(keys=df2.timetamp)\n",
    "df3['dayofweek'] = df3.timetamp.map(lambda t: t.dayofweek)\n",
    "# bar_plot = df3.groupby('dayofweek')\n",
    "df3['timeofday'] = df3.timetamp.map(lambda t: t.hour)"
   ]
  },
  {
   "cell_type": "code",
   "execution_count": 173,
   "metadata": {
    "collapsed": true
   },
   "outputs": [
    {
     "data": {
      "text/html": [
       "<div>\n",
       "<table border=\"1\" class=\"dataframe\">\n",
       "  <thead>\n",
       "    <tr>\n",
       "      <th></th>\n",
       "      <th colspan=\"2\" halign=\"left\">count</th>\n",
       "      <th colspan=\"2\" halign=\"left\">timeofday</th>\n",
       "    </tr>\n",
       "    <tr>\n",
       "      <th></th>\n",
       "      <th>std</th>\n",
       "      <th>mean</th>\n",
       "      <th>std</th>\n",
       "      <th>mean</th>\n",
       "    </tr>\n",
       "    <tr>\n",
       "      <th>dayofweek</th>\n",
       "      <th></th>\n",
       "      <th></th>\n",
       "      <th></th>\n",
       "      <th></th>\n",
       "    </tr>\n",
       "  </thead>\n",
       "  <tbody>\n",
       "    <tr>\n",
       "      <th>0</th>\n",
       "      <td>268.554164</td>\n",
       "      <td>177.587338</td>\n",
       "      <td>6.809267</td>\n",
       "      <td>10.723137</td>\n",
       "    </tr>\n",
       "    <tr>\n",
       "      <th>1</th>\n",
       "      <td>276.093436</td>\n",
       "      <td>185.344047</td>\n",
       "      <td>6.833059</td>\n",
       "      <td>10.653479</td>\n",
       "    </tr>\n",
       "    <tr>\n",
       "      <th>2</th>\n",
       "      <td>280.313256</td>\n",
       "      <td>190.617875</td>\n",
       "      <td>6.849723</td>\n",
       "      <td>10.656377</td>\n",
       "    </tr>\n",
       "    <tr>\n",
       "      <th>3</th>\n",
       "      <td>277.256270</td>\n",
       "      <td>189.352614</td>\n",
       "      <td>6.836855</td>\n",
       "      <td>10.652873</td>\n",
       "    </tr>\n",
       "    <tr>\n",
       "      <th>4</th>\n",
       "      <td>260.710841</td>\n",
       "      <td>181.640515</td>\n",
       "      <td>6.844781</td>\n",
       "      <td>10.629799</td>\n",
       "    </tr>\n",
       "    <tr>\n",
       "      <th>5</th>\n",
       "      <td>166.642249</td>\n",
       "      <td>119.049974</td>\n",
       "      <td>5.692606</td>\n",
       "      <td>12.620366</td>\n",
       "    </tr>\n",
       "    <tr>\n",
       "      <th>6</th>\n",
       "      <td>143.877948</td>\n",
       "      <td>104.880260</td>\n",
       "      <td>6.886361</td>\n",
       "      <td>10.614389</td>\n",
       "    </tr>\n",
       "  </tbody>\n",
       "</table>\n",
       "</div>"
      ],
      "text/plain": [
       "                count             timeofday           \n",
       "                  std        mean       std       mean\n",
       "dayofweek                                             \n",
       "0          268.554164  177.587338  6.809267  10.723137\n",
       "1          276.093436  185.344047  6.833059  10.653479\n",
       "2          280.313256  190.617875  6.849723  10.656377\n",
       "3          277.256270  189.352614  6.836855  10.652873\n",
       "4          260.710841  181.640515  6.844781  10.629799\n",
       "5          166.642249  119.049974  5.692606  12.620366\n",
       "6          143.877948  104.880260  6.886361  10.614389"
      ]
     },
     "execution_count": 173,
     "metadata": {},
     "output_type": "execute_result"
    }
   ],
   "source": [
    "df3.groupby('dayofweek').agg([np.std, np.mean])"
   ]
  },
  {
   "cell_type": "code",
   "execution_count": 211,
   "metadata": {
    "collapsed": false
   },
   "outputs": [],
   "source": [
    "def series_to_list(series):\n",
    "    list_to_return = []\n",
    "    count = 0\n",
    "    for i in series:\n",
    "        if count > 100:\n",
    "            break\n",
    "        else:\n",
    "            list_to_return.append(i)\n",
    "            count += 1\n",
    "            \n",
    "    return list_to_return    \n",
    "    \n",
    "xs = series_to_list(df3['timetamp'])\n",
    "ys = series_to_list(df3['count'])"
   ]
  },
  {
   "cell_type": "code",
   "execution_count": 225,
   "metadata": {
    "collapsed": false
   },
   "outputs": [],
   "source": [
    "day5 = df4[df4['dayofweek'] == 5]"
   ]
  },
  {
   "cell_type": "markdown",
   "metadata": {},
   "source": [
    "grouping starts here"
   ]
  },
  {
   "cell_type": "code",
   "execution_count": 356,
   "metadata": {
    "collapsed": false
   },
   "outputs": [
    {
     "name": "stdout",
     "output_type": "stream",
     "text": [
      "ERROR! Session/line number was not unique in database. History logging moved to new session 746\n"
     ]
    }
   ],
   "source": [
    "bins = np.linspace(0, 23, 24)\n",
    "df5 = df4.groupby(['dayofweek', np.digitize(df4.index.map(lambda t: t.hour), bins)]).mean()"
   ]
  },
  {
   "cell_type": "code",
   "execution_count": 444,
   "metadata": {
    "collapsed": false
   },
   "outputs": [
    {
     "data": {
      "image/png": "[encoded data removed]",
      "text/plain": [
       "<matplotlib.figure.Figure at 0x25f6baf90>"
      ]
     },
     "metadata": {},
     "output_type": "display_data"
    },
    {
     "data": {
      "image/png": "[encoded data removed]",
      "text/plain": [
       "<matplotlib.figure.Figure at 0x25fc3c290>"
      ]
     },
     "metadata": {},
     "output_type": "display_data"
    },
    {
     "data": {
      "image/png": "[encoded data removed]",
      "text/plain": [
       "<matplotlib.figure.Figure at 0x25fcc6e10>"
      ]
     },
     "metadata": {},
     "output_type": "display_data"
    },
    {
     "data": {
      "image/png": "[encoded data removed]",
      "text/plain": [
       "<matplotlib.figure.Figure at 0x25fd92150>"
      ]
     },
     "metadata": {},
     "output_type": "display_data"
    },
    {
     "data": {
      "image/png": "[encoded data removed]",
      "text/plain": [
       "<matplotlib.figure.Figure at 0x25fe20250>"
      ]
     },
     "metadata": {},
     "output_type": "display_data"
    },
    {
     "data": {
      "image/png": "[encoded data removed]",
      "text/plain": [
       "<matplotlib.figure.Figure at 0x25feb5d90>"
      ]
     },
     "metadata": {},
     "output_type": "display_data"
    },
    {
     "data": {
      "image/png": "[encoded data removed]",
      "text/plain": [
       "<matplotlib.figure.Figure at 0x25ff6e810>"
      ]
     },
     "metadata": {},
     "output_type": "display_data"
    }
   ],
   "source": [
    "days = ['Mon', 'Tue', 'Wed', 'Thur', 'Fri', 'Sat', 'Sun']\n",
    "for i, day in enumerate(days):\n",
    "    ax = df5.loc[i].plot(grid=True)\n",
    "    ax.set_xlabel(\"Time\")\n",
    "    ax.set_ylabel(\"Number of Travelers\")\n",
    "    plt.legend([day], loc='best')\n",
    "# ax = df5.loc[day_of_week.Mon].plot(grid=True)\n",
    "# plt.legend([\"Tuesday\"], loc='best')"
   ]
  },
  {
   "cell_type": "code",
   "execution_count": 409,
   "metadata": {
    "collapsed": true
   },
   "outputs": [
    {
     "data": {
      "text/html": [
       "<div>\n",
       "<table border=\"1\" class=\"dataframe\">\n",
       "  <thead>\n",
       "    <tr style=\"text-align: right;\">\n",
       "      <th></th>\n",
       "      <th></th>\n",
       "      <th>count</th>\n",
       "    </tr>\n",
       "    <tr>\n",
       "      <th>dayofweek</th>\n",
       "      <th></th>\n",
       "      <th></th>\n",
       "    </tr>\n",
       "  </thead>\n",
       "  <tbody>\n",
       "    <tr>\n",
       "      <th rowspan=\"24\" valign=\"top\">0</th>\n",
       "      <th>1</th>\n",
       "      <td>103.995666</td>\n",
       "    </tr>\n",
       "    <tr>\n",
       "      <th>2</th>\n",
       "      <td>75.262890</td>\n",
       "    </tr>\n",
       "    <tr>\n",
       "      <th>3</th>\n",
       "      <td>44.729056</td>\n",
       "    </tr>\n",
       "    <tr>\n",
       "      <th>4</th>\n",
       "      <td>23.053892</td>\n",
       "    </tr>\n",
       "    <tr>\n",
       "      <th>5</th>\n",
       "      <td>25.846177</td>\n",
       "    </tr>\n",
       "    <tr>\n",
       "      <th>6</th>\n",
       "      <td>16.376670</td>\n",
       "    </tr>\n",
       "    <tr>\n",
       "      <th>7</th>\n",
       "      <td>25.989000</td>\n",
       "    </tr>\n",
       "    <tr>\n",
       "      <th>8</th>\n",
       "      <td>71.732641</td>\n",
       "    </tr>\n",
       "    <tr>\n",
       "      <th>9</th>\n",
       "      <td>107.592168</td>\n",
       "    </tr>\n",
       "    <tr>\n",
       "      <th>10</th>\n",
       "      <td>177.418006</td>\n",
       "    </tr>\n",
       "    <tr>\n",
       "      <th>11</th>\n",
       "      <td>393.074931</td>\n",
       "    </tr>\n",
       "    <tr>\n",
       "      <th>12</th>\n",
       "      <td>393.664639</td>\n",
       "    </tr>\n",
       "    <tr>\n",
       "      <th>13</th>\n",
       "      <td>306.829383</td>\n",
       "    </tr>\n",
       "    <tr>\n",
       "      <th>14</th>\n",
       "      <td>204.962435</td>\n",
       "    </tr>\n",
       "    <tr>\n",
       "      <th>15</th>\n",
       "      <td>190.455202</td>\n",
       "    </tr>\n",
       "    <tr>\n",
       "      <th>16</th>\n",
       "      <td>120.646505</td>\n",
       "    </tr>\n",
       "    <tr>\n",
       "      <th>17</th>\n",
       "      <td>206.591109</td>\n",
       "    </tr>\n",
       "    <tr>\n",
       "      <th>18</th>\n",
       "      <td>203.778685</td>\n",
       "    </tr>\n",
       "    <tr>\n",
       "      <th>19</th>\n",
       "      <td>336.444794</td>\n",
       "    </tr>\n",
       "    <tr>\n",
       "      <th>20</th>\n",
       "      <td>245.203751</td>\n",
       "    </tr>\n",
       "    <tr>\n",
       "      <th>21</th>\n",
       "      <td>345.593308</td>\n",
       "    </tr>\n",
       "    <tr>\n",
       "      <th>22</th>\n",
       "      <td>280.359726</td>\n",
       "    </tr>\n",
       "    <tr>\n",
       "      <th>23</th>\n",
       "      <td>238.664149</td>\n",
       "    </tr>\n",
       "    <tr>\n",
       "      <th>24</th>\n",
       "      <td>105.748357</td>\n",
       "    </tr>\n",
       "    <tr>\n",
       "      <th rowspan=\"6\" valign=\"top\">1</th>\n",
       "      <th>1</th>\n",
       "      <td>133.340017</td>\n",
       "    </tr>\n",
       "    <tr>\n",
       "      <th>2</th>\n",
       "      <td>89.249897</td>\n",
       "    </tr>\n",
       "    <tr>\n",
       "      <th>3</th>\n",
       "      <td>49.726590</td>\n",
       "    </tr>\n",
       "    <tr>\n",
       "      <th>4</th>\n",
       "      <td>19.963080</td>\n",
       "    </tr>\n",
       "    <tr>\n",
       "      <th>5</th>\n",
       "      <td>28.104123</td>\n",
       "    </tr>\n",
       "    <tr>\n",
       "      <th>6</th>\n",
       "      <td>17.488325</td>\n",
       "    </tr>\n",
       "    <tr>\n",
       "      <th>...</th>\n",
       "      <th>...</th>\n",
       "      <td>...</td>\n",
       "    </tr>\n",
       "    <tr>\n",
       "      <th rowspan=\"6\" valign=\"top\">5</th>\n",
       "      <th>19</th>\n",
       "      <td>177.146992</td>\n",
       "    </tr>\n",
       "    <tr>\n",
       "      <th>20</th>\n",
       "      <td>129.499555</td>\n",
       "    </tr>\n",
       "    <tr>\n",
       "      <th>21</th>\n",
       "      <td>202.275965</td>\n",
       "    </tr>\n",
       "    <tr>\n",
       "      <th>22</th>\n",
       "      <td>165.389443</td>\n",
       "    </tr>\n",
       "    <tr>\n",
       "      <th>23</th>\n",
       "      <td>138.461504</td>\n",
       "    </tr>\n",
       "    <tr>\n",
       "      <th>24</th>\n",
       "      <td>95.661852</td>\n",
       "    </tr>\n",
       "    <tr>\n",
       "      <th rowspan=\"24\" valign=\"top\">6</th>\n",
       "      <th>1</th>\n",
       "      <td>138.163115</td>\n",
       "    </tr>\n",
       "    <tr>\n",
       "      <th>2</th>\n",
       "      <td>103.769607</td>\n",
       "    </tr>\n",
       "    <tr>\n",
       "      <th>3</th>\n",
       "      <td>78.418859</td>\n",
       "    </tr>\n",
       "    <tr>\n",
       "      <th>4</th>\n",
       "      <td>42.158586</td>\n",
       "    </tr>\n",
       "    <tr>\n",
       "      <th>5</th>\n",
       "      <td>47.637952</td>\n",
       "    </tr>\n",
       "    <tr>\n",
       "      <th>6</th>\n",
       "      <td>29.009192</td>\n",
       "    </tr>\n",
       "    <tr>\n",
       "      <th>7</th>\n",
       "      <td>22.025154</td>\n",
       "    </tr>\n",
       "    <tr>\n",
       "      <th>8</th>\n",
       "      <td>16.585784</td>\n",
       "    </tr>\n",
       "    <tr>\n",
       "      <th>9</th>\n",
       "      <td>31.379470</td>\n",
       "    </tr>\n",
       "    <tr>\n",
       "      <th>10</th>\n",
       "      <td>41.225237</td>\n",
       "    </tr>\n",
       "    <tr>\n",
       "      <th>11</th>\n",
       "      <td>69.261809</td>\n",
       "    </tr>\n",
       "    <tr>\n",
       "      <th>12</th>\n",
       "      <td>45.279152</td>\n",
       "    </tr>\n",
       "    <tr>\n",
       "      <th>13</th>\n",
       "      <td>106.809752</td>\n",
       "    </tr>\n",
       "    <tr>\n",
       "      <th>14</th>\n",
       "      <td>114.423930</td>\n",
       "    </tr>\n",
       "    <tr>\n",
       "      <th>15</th>\n",
       "      <td>155.156110</td>\n",
       "    </tr>\n",
       "    <tr>\n",
       "      <th>16</th>\n",
       "      <td>87.438793</td>\n",
       "    </tr>\n",
       "    <tr>\n",
       "      <th>17</th>\n",
       "      <td>165.792288</td>\n",
       "    </tr>\n",
       "    <tr>\n",
       "      <th>18</th>\n",
       "      <td>155.279378</td>\n",
       "    </tr>\n",
       "    <tr>\n",
       "      <th>19</th>\n",
       "      <td>170.313993</td>\n",
       "    </tr>\n",
       "    <tr>\n",
       "      <th>20</th>\n",
       "      <td>93.099662</td>\n",
       "    </tr>\n",
       "    <tr>\n",
       "      <th>21</th>\n",
       "      <td>170.892982</td>\n",
       "    </tr>\n",
       "    <tr>\n",
       "      <th>22</th>\n",
       "      <td>141.801362</td>\n",
       "    </tr>\n",
       "    <tr>\n",
       "      <th>23</th>\n",
       "      <td>121.146896</td>\n",
       "    </tr>\n",
       "    <tr>\n",
       "      <th>24</th>\n",
       "      <td>73.132010</td>\n",
       "    </tr>\n",
       "  </tbody>\n",
       "</table>\n",
       "<p>167 rows × 1 columns</p>\n",
       "</div>"
      ],
      "text/plain": [
       "                   count\n",
       "dayofweek               \n",
       "0         1   103.995666\n",
       "          2    75.262890\n",
       "          3    44.729056\n",
       "          4    23.053892\n",
       "          5    25.846177\n",
       "          6    16.376670\n",
       "          7    25.989000\n",
       "          8    71.732641\n",
       "          9   107.592168\n",
       "          10  177.418006\n",
       "          11  393.074931\n",
       "          12  393.664639\n",
       "          13  306.829383\n",
       "          14  204.962435\n",
       "          15  190.455202\n",
       "          16  120.646505\n",
       "          17  206.591109\n",
       "          18  203.778685\n",
       "          19  336.444794\n",
       "          20  245.203751\n",
       "          21  345.593308\n",
       "          22  280.359726\n",
       "          23  238.664149\n",
       "          24  105.748357\n",
       "1         1   133.340017\n",
       "          2    89.249897\n",
       "          3    49.726590\n",
       "          4    19.963080\n",
       "          5    28.104123\n",
       "          6    17.488325\n",
       "...                  ...\n",
       "5         19  177.146992\n",
       "          20  129.499555\n",
       "          21  202.275965\n",
       "          22  165.389443\n",
       "          23  138.461504\n",
       "          24   95.661852\n",
       "6         1   138.163115\n",
       "          2   103.769607\n",
       "          3    78.418859\n",
       "          4    42.158586\n",
       "          5    47.637952\n",
       "          6    29.009192\n",
       "          7    22.025154\n",
       "          8    16.585784\n",
       "          9    31.379470\n",
       "          10   41.225237\n",
       "          11   69.261809\n",
       "          12   45.279152\n",
       "          13  106.809752\n",
       "          14  114.423930\n",
       "          15  155.156110\n",
       "          16   87.438793\n",
       "          17  165.792288\n",
       "          18  155.279378\n",
       "          19  170.313993\n",
       "          20   93.099662\n",
       "          21  170.892982\n",
       "          22  141.801362\n",
       "          23  121.146896\n",
       "          24   73.132010\n",
       "\n",
       "[167 rows x 1 columns]"
      ]
     },
     "execution_count": 409,
     "metadata": {},
     "output_type": "execute_result"
    }
   ],
   "source": [
    "df5"
   ]
  },
  {
   "cell_type": "code",
   "execution_count": null,
   "metadata": {
    "collapsed": true
   },
   "outputs": [],
   "source": []
  },
  {
   "cell_type": "code",
   "execution_count": null,
   "metadata": {
    "collapsed": true
   },
   "outputs": [],
   "source": []
  },
  {
   "cell_type": "code",
   "execution_count": null,
   "metadata": {
    "collapsed": true
   },
   "outputs": [],
   "source": []
  },
  {
   "cell_type": "code",
   "execution_count": null,
   "metadata": {
    "collapsed": true
   },
   "outputs": [],
   "source": []
  },
  {
   "cell_type": "markdown",
   "metadata": {},
   "source": [
    "need to use this: http://stackoverflow.com/questions/16947336/binning-a-dataframe-in-pandas-in-python"
   ]
  },
  {
   "cell_type": "markdown",
   "metadata": {},
   "source": [
    "example below"
   ]
  },
  {
   "cell_type": "code",
   "execution_count": 290,
   "metadata": {
    "collapsed": false
   },
   "outputs": [],
   "source": [
    "frame = pd.DataFrame({'a': np.random.random(100)*23,\n",
    "                      'b': np.random.random(100)*23,\n",
    "                      'id': np.arange(100)})"
   ]
  },
  {
   "cell_type": "markdown",
   "metadata": {},
   "source": [
    "make bins"
   ]
  },
  {
   "cell_type": "code",
   "execution_count": 292,
   "metadata": {
    "collapsed": false
   },
   "outputs": [],
   "source": [
    "bins = np.linspace(0, 23, 24)"
   ]
  },
  {
   "cell_type": "markdown",
   "metadata": {},
   "source": [
    "put in series and bins and numpy puts the items in that array into their associated bins.  "
   ]
  },
  {
   "cell_type": "code",
   "execution_count": 300,
   "metadata": {
    "collapsed": false
   },
   "outputs": [
    {
     "data": {
      "text/plain": [
       "array([16, 21, 17, 20,  4,  1,  3, 15, 19, 13,  4, 18, 19, 18, 23, 12,  4,\n",
       "        4,  3, 17, 17,  4,  4,  9, 20, 15, 11, 16,  8,  3, 15,  5,  1, 12,\n",
       "        8, 11, 12, 19, 13, 12, 13, 18,  6, 18, 20, 20, 13, 23,  7, 19,  3,\n",
       "       19,  6, 16,  1, 14,  7,  7, 13,  4,  6,  6,  2,  3,  4,  6,  6, 18,\n",
       "       20,  9, 11, 13, 22, 14, 15,  3,  7, 22, 14, 15, 23, 10, 16, 15, 23,\n",
       "       21, 17, 10,  1, 12,  2, 12, 10, 23,  6, 20,  8,  2, 23,  6])"
      ]
     },
     "execution_count": 300,
     "metadata": {},
     "output_type": "execute_result"
    }
   ],
   "source": [
    "np.digitize(frame.a, bins)"
   ]
  },
  {
   "cell_type": "code",
   "execution_count": 301,
   "metadata": {
    "collapsed": false
   },
   "outputs": [],
   "source": [
    "groups = frame.groupby(np.digitize(frame.a, bins))"
   ]
  },
  {
   "cell_type": "code",
   "execution_count": 302,
   "metadata": {
    "collapsed": false
   },
   "outputs": [
    {
     "data": {
      "text/html": [
       "<div>\n",
       "<table border=\"1\" class=\"dataframe\">\n",
       "  <thead>\n",
       "    <tr style=\"text-align: right;\">\n",
       "      <th></th>\n",
       "      <th>a</th>\n",
       "      <th>b</th>\n",
       "      <th>id</th>\n",
       "    </tr>\n",
       "  </thead>\n",
       "  <tbody>\n",
       "    <tr>\n",
       "      <th>1</th>\n",
       "      <td>0.725426</td>\n",
       "      <td>8.799917</td>\n",
       "      <td>44.750000</td>\n",
       "    </tr>\n",
       "    <tr>\n",
       "      <th>2</th>\n",
       "      <td>1.599516</td>\n",
       "      <td>1.151812</td>\n",
       "      <td>83.000000</td>\n",
       "    </tr>\n",
       "    <tr>\n",
       "      <th>3</th>\n",
       "      <td>2.583489</td>\n",
       "      <td>9.432147</td>\n",
       "      <td>40.166667</td>\n",
       "    </tr>\n",
       "    <tr>\n",
       "      <th>4</th>\n",
       "      <td>3.501053</td>\n",
       "      <td>11.404335</td>\n",
       "      <td>26.625000</td>\n",
       "    </tr>\n",
       "    <tr>\n",
       "      <th>5</th>\n",
       "      <td>4.485185</td>\n",
       "      <td>10.777896</td>\n",
       "      <td>31.000000</td>\n",
       "    </tr>\n",
       "    <tr>\n",
       "      <th>6</th>\n",
       "      <td>5.487965</td>\n",
       "      <td>11.219177</td>\n",
       "      <td>67.375000</td>\n",
       "    </tr>\n",
       "    <tr>\n",
       "      <th>7</th>\n",
       "      <td>6.495703</td>\n",
       "      <td>12.406077</td>\n",
       "      <td>59.250000</td>\n",
       "    </tr>\n",
       "    <tr>\n",
       "      <th>8</th>\n",
       "      <td>7.761430</td>\n",
       "      <td>6.959885</td>\n",
       "      <td>52.666667</td>\n",
       "    </tr>\n",
       "    <tr>\n",
       "      <th>9</th>\n",
       "      <td>8.167561</td>\n",
       "      <td>16.805504</td>\n",
       "      <td>46.000000</td>\n",
       "    </tr>\n",
       "    <tr>\n",
       "      <th>10</th>\n",
       "      <td>9.439199</td>\n",
       "      <td>10.471188</td>\n",
       "      <td>86.666667</td>\n",
       "    </tr>\n",
       "    <tr>\n",
       "      <th>11</th>\n",
       "      <td>10.645642</td>\n",
       "      <td>10.420872</td>\n",
       "      <td>43.666667</td>\n",
       "    </tr>\n",
       "    <tr>\n",
       "      <th>12</th>\n",
       "      <td>11.485305</td>\n",
       "      <td>11.245430</td>\n",
       "      <td>50.500000</td>\n",
       "    </tr>\n",
       "    <tr>\n",
       "      <th>13</th>\n",
       "      <td>12.540362</td>\n",
       "      <td>10.808770</td>\n",
       "      <td>43.666667</td>\n",
       "    </tr>\n",
       "    <tr>\n",
       "      <th>14</th>\n",
       "      <td>13.172115</td>\n",
       "      <td>11.754699</td>\n",
       "      <td>68.666667</td>\n",
       "    </tr>\n",
       "    <tr>\n",
       "      <th>15</th>\n",
       "      <td>14.439535</td>\n",
       "      <td>15.645068</td>\n",
       "      <td>49.666667</td>\n",
       "    </tr>\n",
       "    <tr>\n",
       "      <th>16</th>\n",
       "      <td>15.395803</td>\n",
       "      <td>10.950322</td>\n",
       "      <td>40.500000</td>\n",
       "    </tr>\n",
       "    <tr>\n",
       "      <th>17</th>\n",
       "      <td>16.331272</td>\n",
       "      <td>13.832235</td>\n",
       "      <td>31.750000</td>\n",
       "    </tr>\n",
       "    <tr>\n",
       "      <th>18</th>\n",
       "      <td>17.364364</td>\n",
       "      <td>12.098642</td>\n",
       "      <td>35.000000</td>\n",
       "    </tr>\n",
       "    <tr>\n",
       "      <th>19</th>\n",
       "      <td>18.412303</td>\n",
       "      <td>12.163504</td>\n",
       "      <td>31.400000</td>\n",
       "    </tr>\n",
       "    <tr>\n",
       "      <th>20</th>\n",
       "      <td>19.618435</td>\n",
       "      <td>12.525967</td>\n",
       "      <td>46.500000</td>\n",
       "    </tr>\n",
       "    <tr>\n",
       "      <th>21</th>\n",
       "      <td>20.525489</td>\n",
       "      <td>9.707108</td>\n",
       "      <td>43.000000</td>\n",
       "    </tr>\n",
       "    <tr>\n",
       "      <th>22</th>\n",
       "      <td>21.178637</td>\n",
       "      <td>20.516848</td>\n",
       "      <td>74.500000</td>\n",
       "    </tr>\n",
       "    <tr>\n",
       "      <th>23</th>\n",
       "      <td>22.232408</td>\n",
       "      <td>9.642837</td>\n",
       "      <td>69.333333</td>\n",
       "    </tr>\n",
       "  </tbody>\n",
       "</table>\n",
       "</div>"
      ],
      "text/plain": [
       "            a          b         id\n",
       "1    0.725426   8.799917  44.750000\n",
       "2    1.599516   1.151812  83.000000\n",
       "3    2.583489   9.432147  40.166667\n",
       "4    3.501053  11.404335  26.625000\n",
       "5    4.485185  10.777896  31.000000\n",
       "6    5.487965  11.219177  67.375000\n",
       "7    6.495703  12.406077  59.250000\n",
       "8    7.761430   6.959885  52.666667\n",
       "9    8.167561  16.805504  46.000000\n",
       "10   9.439199  10.471188  86.666667\n",
       "11  10.645642  10.420872  43.666667\n",
       "12  11.485305  11.245430  50.500000\n",
       "13  12.540362  10.808770  43.666667\n",
       "14  13.172115  11.754699  68.666667\n",
       "15  14.439535  15.645068  49.666667\n",
       "16  15.395803  10.950322  40.500000\n",
       "17  16.331272  13.832235  31.750000\n",
       "18  17.364364  12.098642  35.000000\n",
       "19  18.412303  12.163504  31.400000\n",
       "20  19.618435  12.525967  46.500000\n",
       "21  20.525489   9.707108  43.000000\n",
       "22  21.178637  20.516848  74.500000\n",
       "23  22.232408   9.642837  69.333333"
      ]
     },
     "execution_count": 302,
     "metadata": {},
     "output_type": "execute_result"
    }
   ],
   "source": [
    "groups.mean()"
   ]
  },
  {
   "cell_type": "code",
   "execution_count": null,
   "metadata": {
    "collapsed": true
   },
   "outputs": [],
   "source": []
  },
  {
   "cell_type": "code",
   "execution_count": null,
   "metadata": {
    "collapsed": true
   },
   "outputs": [],
   "source": []
  },
  {
   "cell_type": "code",
   "execution_count": null,
   "metadata": {
    "collapsed": true
   },
   "outputs": [],
   "source": []
  },
  {
   "cell_type": "code",
   "execution_count": null,
   "metadata": {
    "collapsed": true
   },
   "outputs": [],
   "source": []
  },
  {
   "cell_type": "code",
   "execution_count": null,
   "metadata": {
    "collapsed": true
   },
   "outputs": [],
   "source": []
  },
  {
   "cell_type": "code",
   "execution_count": null,
   "metadata": {
    "collapsed": true
   },
   "outputs": [],
   "source": []
  },
  {
   "cell_type": "code",
   "execution_count": null,
   "metadata": {
    "collapsed": true
   },
   "outputs": [],
   "source": []
  },
  {
   "cell_type": "code",
   "execution_count": null,
   "metadata": {
    "collapsed": true
   },
   "outputs": [],
   "source": []
  },
  {
   "cell_type": "code",
   "execution_count": null,
   "metadata": {
    "collapsed": true
   },
   "outputs": [],
   "source": []
  },
  {
   "cell_type": "code",
   "execution_count": null,
   "metadata": {
    "collapsed": true
   },
   "outputs": [],
   "source": []
  },
  {
   "cell_type": "code",
   "execution_count": null,
   "metadata": {
    "collapsed": true
   },
   "outputs": [],
   "source": []
  },
  {
   "cell_type": "code",
   "execution_count": null,
   "metadata": {
    "collapsed": true
   },
   "outputs": [],
   "source": []
  },
  {
   "cell_type": "code",
   "execution_count": null,
   "metadata": {
    "collapsed": true
   },
   "outputs": [],
   "source": []
  },
  {
   "cell_type": "code",
   "execution_count": null,
   "metadata": {
    "collapsed": true
   },
   "outputs": [],
   "source": []
  },
  {
   "cell_type": "code",
   "execution_count": null,
   "metadata": {
    "collapsed": true
   },
   "outputs": [],
   "source": []
  },
  {
   "cell_type": "code",
   "execution_count": null,
   "metadata": {
    "collapsed": true
   },
   "outputs": [],
   "source": []
  },
  {
   "cell_type": "code",
   "execution_count": null,
   "metadata": {
    "collapsed": true
   },
   "outputs": [],
   "source": []
  },
  {
   "cell_type": "code",
   "execution_count": null,
   "metadata": {
    "collapsed": true
   },
   "outputs": [],
   "source": []
  },
  {
   "cell_type": "code",
   "execution_count": null,
   "metadata": {
    "collapsed": true
   },
   "outputs": [],
   "source": []
  },
  {
   "cell_type": "code",
   "execution_count": null,
   "metadata": {
    "collapsed": true
   },
   "outputs": [],
   "source": []
  },
  {
   "cell_type": "code",
   "execution_count": null,
   "metadata": {
    "collapsed": true
   },
   "outputs": [],
   "source": []
  },
  {
   "cell_type": "code",
   "execution_count": null,
   "metadata": {
    "collapsed": true
   },
   "outputs": [],
   "source": []
  },
  {
   "cell_type": "code",
   "execution_count": null,
   "metadata": {
    "collapsed": true
   },
   "outputs": [],
   "source": []
  },
  {
   "cell_type": "code",
   "execution_count": null,
   "metadata": {
    "collapsed": true
   },
   "outputs": [],
   "source": []
  },
  {
   "cell_type": "code",
   "execution_count": null,
   "metadata": {
    "collapsed": true
   },
   "outputs": [],
   "source": []
  },
  {
   "cell_type": "code",
   "execution_count": null,
   "metadata": {
    "collapsed": true
   },
   "outputs": [],
   "source": []
  },
  {
   "cell_type": "code",
   "execution_count": null,
   "metadata": {
    "collapsed": true
   },
   "outputs": [],
   "source": []
  },
  {
   "cell_type": "code",
   "execution_count": null,
   "metadata": {
    "collapsed": true
   },
   "outputs": [],
   "source": []
  },
  {
   "cell_type": "code",
   "execution_count": null,
   "metadata": {
    "collapsed": true
   },
   "outputs": [],
   "source": []
  }
 ],
 "metadata": {
  "kernelspec": {
   "display_name": "Python 2",
   "language": "python",
   "name": "python2"
  },
  "language_info": {
   "codemirror_mode": {
    "name": "ipython",
    "version": 2
   },
   "file_extension": ".py",
   "mimetype": "text/x-python",
   "name": "python",
   "nbconvert_exporter": "python",
   "pygments_lexer": "ipython2",
   "version": "2.7.9"
  }
 },
 "nbformat": 4,
 "nbformat_minor": 0
}
