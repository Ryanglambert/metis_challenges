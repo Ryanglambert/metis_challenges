{
 "cells": [
  {
   "cell_type": "code",
   "execution_count": 11,
   "metadata": {
    "collapsed": false
   },
   "outputs": [],
   "source": [
    "import pandas as pd\n",
    "import matplotlib.pyplot as plt\n",
    "import numpy as np\n",
    "import datetime\n",
    "import urllib2\n",
    "%matplotlib inline"
   ]
  },
  {
   "cell_type": "code",
   "execution_count": 12,
   "metadata": {
    "collapsed": false
   },
   "outputs": [],
   "source": [
    "import dateutil.parser\n",
    "mta_url_1 = \"http://web.mta.info/developers/data/nyct/turnstile/turnstile_150606.txt\"\n",
    "mta_url_2 =\"http://web.mta.info/developers/data/nyct/turnstile/turnstile_150613.txt\"\n",
    "mta_url_3 =\"http://web.mta.info/developers/data/nyct/turnstile/turnstile_150620.txt\"\n",
    "mta_url_4 =\"http://web.mta.info/developers/data/nyct/turnstile/turnstile_150627.txt\"\n",
    "mta_url_5 =\"http://web.mta.info/developers/data/nyct/turnstile/turnstile_150704.txt\"\n",
    "mta_url_6 =\"http://web.mta.info/developers/data/nyct/turnstile/turnstile_150711.txt\"\n",
    "mta_url_7 =\"http://web.mta.info/developers/data/nyct/turnstile/turnstile_150718.txt\"\n",
    "mta_url_8 =\"http://web.mta.info/developers/data/nyct/turnstile/turnstile_150725.txt\"\n",
    "mta_url_9 =\"http://web.mta.info/developers/data/nyct/turnstile/turnstile_150801.txt\"\n",
    "mta_url_10 =\"http://web.mta.info/developers/data/nyct/turnstile/turnstile_150808.txt\"\n",
    "mta_url_11 =\"http://web.mta.info/developers/data/nyct/turnstile/turnstile_150815.txt\"\n",
    "mta_url_12 =\"http://web.mta.info/developers/data/nyct/turnstile/turnstile_150822.txt\"\n",
    "mta_url_13 =\"http://web.mta.info/developers/data/nyct/turnstile/turnstile_150829.txt\"\n",
    "\n",
    "data_1 = urllib2.urlopen(mta_url_1)\n",
    "data_2 = urllib2.urlopen(mta_url_2)\n",
    "data_3 = urllib2.urlopen(mta_url_3)\n",
    "data_4 = urllib2.urlopen(mta_url_4)\n",
    "data_5 = urllib2.urlopen(mta_url_5)\n",
    "data_6 = urllib2.urlopen(mta_url_6)\n",
    "data_7 = urllib2.urlopen(mta_url_7)\n",
    "data_8 = urllib2.urlopen(mta_url_8)\n",
    "data_9 = urllib2.urlopen(mta_url_9)\n",
    "data_10 = urllib2.urlopen(mta_url_10)\n",
    "data_11 = urllib2.urlopen(mta_url_11)\n",
    "data_12 = urllib2.urlopen(mta_url_12)\n",
    "data_13 = urllib2.urlopen(mta_url_13)\n",
    "\n",
    "\n",
    "# new_data_1 = [x.strip() for x in data_1]\n",
    "# new_data_2 = [x.strip() for x in data_2]\n",
    "# new_data_3 = [x.strip() for x in data_3]\n",
    "# new_data_4 = [x.strip() for x in data_4]\n",
    "# new_data_5 = [x.strip() for x in data_5]\n",
    "# new_data_6 = [x.strip() for x in data_6]\n",
    "# new_data_7 = [x.strip() for x in data_7]\n",
    "# new_data_8 = [x.strip() for x in data_8]\n",
    "# new_data_9 = [x.strip() for x in data_9]\n",
    "# new_data_10 = [x.strip() for x in data_10]\n",
    "# new_data_11 = [x.strip() for x in data_11]\n",
    "# new_data_12 = [x.strip() for x in data_12]\n",
    "# new_data_13 = [x.strip() for x in data_13]\n",
    "\n",
    "new_data_1 = [\n",
    "    [x.strip() for x in data_1],\n",
    "    [x.strip() for x in data_2],\n",
    "    [x.strip() for x in data_3],\n",
    "    [x.strip() for x in data_4],\n",
    "    [x.strip() for x in data_5],\n",
    "    [x.strip() for x in data_6],\n",
    "    [x.strip() for x in data_7],\n",
    "    [x.strip() for x in data_8],\n",
    "    [x.strip() for x in data_9],\n",
    "    [x.strip() for x in data_10],\n",
    "    [x.strip() for x in data_11],\n",
    "    [x.strip() for x in data_12],\n",
    "    [x.strip() for x in data_13]\n",
    "    ]\n",
    "\n",
    "# data = new_data_1[1:] + new_data_2[1:] \n",
    "\n",
    "def add_things(list_of_data):\n",
    "    data = []\n",
    "    for i in list_of_data:\n",
    "        data += i[1:]        \n",
    "    return data\n",
    "\n",
    "data = add_things(new_data_1)\n",
    " \n",
    "\n",
    "## create list which contains list elemtents (value_list)\n",
    "lists_of_list = []\n",
    "def list_of_dictval(data):\n",
    "  for item in data:\n",
    "    rowlist = item.split(\",\")\n",
    "    tuple_key = tuple(rowlist[:4])\n",
    "    date_time = rowlist[-5] + \" \" + rowlist[-4]\n",
    "    date_time = dateutil.parser.parse(date_time)\n",
    "    entries = int(rowlist[-1])\n",
    "    value_list = []\n",
    "    value_list.append(tuple_key)\n",
    "    value_list.append(date_time)\n",
    "    value_list.append(entries)\n",
    "    lists_of_list.append(value_list)\n",
    "\n",
    "\n",
    "\n",
    "## append prior period cumulative entries to current list\n",
    "def append_prior_cum_entries(lists_of_list):\n",
    "  cnt = 0 \n",
    "  for item in lists_of_list:\n",
    "    if cnt == 0:\n",
    "      lists_of_list[cnt].append(1)\n",
    "    elif lists_of_list[cnt][0] == lists_of_list[cnt-1][0]:\n",
    "      lists_of_list[cnt].append(lists_of_list[cnt-1][2])\n",
    "    else:\n",
    "      lists_of_list[cnt].append(1) \n",
    "    cnt = cnt + 1\n",
    "\n",
    "## take difference between two cum entries to get count of entries\n",
    "def append_count_entries(lists_of_list):\n",
    "  cnt = 0\n",
    "  for item in lists_of_list:\n",
    "    if cnt == 0:\n",
    "      lists_of_list[cnt].append(0)\n",
    "    elif lists_of_list[cnt][0] == lists_of_list[cnt-1][0]:\n",
    "      lists_of_list[cnt].append((lists_of_list[cnt][2] - lists_of_list[cnt][3]))\n",
    "    else:\n",
    "      lists_of_list[cnt].append(0) \n",
    "    cnt = cnt + 1\n",
    "\n",
    "## create the dictionary with keys with empty list values\n",
    "mta_ts_dict = {}\n",
    "def insert_dict_keys(lists_of_list):\n",
    "  for item in lists_of_list:\n",
    "    key = item[0]\n",
    "    mta_ts_dict[key] = []\n",
    "  return mta_ts_dict\n",
    "\n",
    "## populate the values for each key\n",
    "def mta_time_series_dict(lists_of_list):\n",
    "  cnt = 0\n",
    "  for item in lists_of_list:\n",
    "    key = lists_of_list[cnt][0]\n",
    "    vlist = []\n",
    "    vlist.append(item[1])\n",
    "    vlist.append(item[-1])  \n",
    "    if key in mta_ts_dict:\n",
    "      mta_ts_dict[key].append(vlist)\n",
    "    cnt = cnt + 1\n",
    "  return mta_ts_dict\n",
    "\n",
    "list_of_dictval(data)\n",
    "append_prior_cum_entries(lists_of_list)\n",
    "append_count_entries(lists_of_list)\n",
    "insert_dict_keys(lists_of_list)\n",
    "\n",
    "cum_exits = mta_time_series_dict(lists_of_list)"
   ]
  },
  {
   "cell_type": "code",
   "execution_count": 105,
   "metadata": {
    "collapsed": false
   },
   "outputs": [
    {
     "data": {
      "text/plain": [
       "tuple"
      ]
     },
     "execution_count": 105,
     "metadata": {},
     "output_type": "execute_result"
    }
   ],
   "source": [
    "turnstile"
   ]
  },
  {
   "cell_type": "code",
   "execution_count": 72,
   "metadata": {
    "collapsed": false
   },
   "outputs": [
    {
     "data": {
      "text/plain": [
       "'A030_R083_01-06-00'"
      ]
     },
     "execution_count": 72,
     "metadata": {},
     "output_type": "execute_result"
    }
   ],
   "source": [
    "key = '_'.join(turnstile[:3])\n",
    "key"
   ]
  },
  {
   "cell_type": "code",
   "execution_count": 106,
   "metadata": {
    "collapsed": false
   },
   "outputs": [],
   "source": [
    "# make an empty list\n",
    "list_of_turnstile_sets = []\n",
    "# for each turnstile, do this to it and add it to your list\n",
    "for turnstile, data in cum_exits.iteritems():\n",
    "    turnstile_set = [{'key':key,'timetamp':timestamp,'count':count} for timestamp, count in data]\n",
    "    list_of_turnstile_sets += turnstile_set\n",
    "\n",
    "# then make the df from the big list\n",
    "df = pd.DataFrame(list_of_turnstile_sets)\n",
    "df2 = df[(df['count'] <= 2e4) & (df['count'] > 0 ) ]"
   ]
  },
  {
   "cell_type": "markdown",
   "metadata": {},
   "source": [
    "The number that were \"outliers\""
   ]
  },
  {
   "cell_type": "code",
   "execution_count": 116,
   "metadata": {
    "collapsed": false
   },
   "outputs": [
    {
     "data": {
      "text/plain": [
       "-927139"
      ]
     },
     "execution_count": 116,
     "metadata": {},
     "output_type": "execute_result"
    }
   ],
   "source": [
    "len(df2) - len(df)"
   ]
  },
  {
   "cell_type": "code",
   "execution_count": 84,
   "metadata": {
    "collapsed": false
   },
   "outputs": [
    {
     "data": {
      "text/html": [
       "<div>\n",
       "<table border=\"1\" class=\"dataframe\">\n",
       "  <thead>\n",
       "    <tr style=\"text-align: right;\">\n",
       "      <th></th>\n",
       "      <th>key</th>\n",
       "      <th>timetamp</th>\n",
       "      <th>count</th>\n",
       "    </tr>\n",
       "  </thead>\n",
       "  <tbody>\n",
       "    <tr>\n",
       "      <th>0</th>\n",
       "      <td>A030_R083_01-06-00</td>\n",
       "      <td>2015-05-30 00:00:00</td>\n",
       "      <td>0</td>\n",
       "    </tr>\n",
       "    <tr>\n",
       "      <th>1</th>\n",
       "      <td>A030_R083_01-06-00</td>\n",
       "      <td>2015-05-30 04:00:00</td>\n",
       "      <td>22</td>\n",
       "    </tr>\n",
       "    <tr>\n",
       "      <th>2</th>\n",
       "      <td>A030_R083_01-06-00</td>\n",
       "      <td>2015-05-30 08:00:00</td>\n",
       "      <td>22</td>\n",
       "    </tr>\n",
       "    <tr>\n",
       "      <th>3</th>\n",
       "      <td>A030_R083_01-06-00</td>\n",
       "      <td>2015-05-30 12:00:00</td>\n",
       "      <td>148</td>\n",
       "    </tr>\n",
       "    <tr>\n",
       "      <th>4</th>\n",
       "      <td>A030_R083_01-06-00</td>\n",
       "      <td>2015-05-30 16:00:00</td>\n",
       "      <td>276</td>\n",
       "    </tr>\n",
       "    <tr>\n",
       "      <th>5</th>\n",
       "      <td>A030_R083_01-06-00</td>\n",
       "      <td>2015-05-30 20:00:00</td>\n",
       "      <td>250</td>\n",
       "    </tr>\n",
       "    <tr>\n",
       "      <th>6</th>\n",
       "      <td>A030_R083_01-06-00</td>\n",
       "      <td>2015-05-31 00:00:00</td>\n",
       "      <td>100</td>\n",
       "    </tr>\n",
       "    <tr>\n",
       "      <th>7</th>\n",
       "      <td>A030_R083_01-06-00</td>\n",
       "      <td>2015-05-31 04:00:00</td>\n",
       "      <td>16</td>\n",
       "    </tr>\n",
       "    <tr>\n",
       "      <th>8</th>\n",
       "      <td>A030_R083_01-06-00</td>\n",
       "      <td>2015-05-31 08:00:00</td>\n",
       "      <td>16</td>\n",
       "    </tr>\n",
       "    <tr>\n",
       "      <th>9</th>\n",
       "      <td>A030_R083_01-06-00</td>\n",
       "      <td>2015-05-31 12:00:00</td>\n",
       "      <td>114</td>\n",
       "    </tr>\n",
       "  </tbody>\n",
       "</table>\n",
       "</div>"
      ],
      "text/plain": [
       "                  key            timetamp  count\n",
       "0  A030_R083_01-06-00 2015-05-30 00:00:00      0\n",
       "1  A030_R083_01-06-00 2015-05-30 04:00:00     22\n",
       "2  A030_R083_01-06-00 2015-05-30 08:00:00     22\n",
       "3  A030_R083_01-06-00 2015-05-30 12:00:00    148\n",
       "4  A030_R083_01-06-00 2015-05-30 16:00:00    276\n",
       "5  A030_R083_01-06-00 2015-05-30 20:00:00    250\n",
       "6  A030_R083_01-06-00 2015-05-31 00:00:00    100\n",
       "7  A030_R083_01-06-00 2015-05-31 04:00:00     16\n",
       "8  A030_R083_01-06-00 2015-05-31 08:00:00     16\n",
       "9  A030_R083_01-06-00 2015-05-31 12:00:00    114"
      ]
     },
     "execution_count": 84,
     "metadata": {},
     "output_type": "execute_result"
    }
   ],
   "source": [
    "df2 = df[['key','timetamp','count']]\n",
    "df2.head(10)"
   ]
  },
  {
   "cell_type": "code",
   "execution_count": null,
   "metadata": {
    "collapsed": true
   },
   "outputs": [],
   "source": []
  },
  {
   "cell_type": "code",
   "execution_count": null,
   "metadata": {
    "collapsed": true
   },
   "outputs": [],
   "source": []
  },
  {
   "cell_type": "code",
   "execution_count": null,
   "metadata": {
    "collapsed": true
   },
   "outputs": [],
   "source": []
  },
  {
   "cell_type": "code",
   "execution_count": null,
   "metadata": {
    "collapsed": true
   },
   "outputs": [],
   "source": []
  },
  {
   "cell_type": "code",
   "execution_count": null,
   "metadata": {
    "collapsed": true
   },
   "outputs": [],
   "source": []
  },
  {
   "cell_type": "code",
   "execution_count": null,
   "metadata": {
    "collapsed": true
   },
   "outputs": [],
   "source": []
  },
  {
   "cell_type": "code",
   "execution_count": null,
   "metadata": {
    "collapsed": true
   },
   "outputs": [],
   "source": []
  },
  {
   "cell_type": "code",
   "execution_count": null,
   "metadata": {
    "collapsed": true
   },
   "outputs": [],
   "source": []
  },
  {
   "cell_type": "code",
   "execution_count": null,
   "metadata": {
    "collapsed": true
   },
   "outputs": [],
   "source": []
  },
  {
   "cell_type": "code",
   "execution_count": null,
   "metadata": {
    "collapsed": true
   },
   "outputs": [],
   "source": []
  },
  {
   "cell_type": "code",
   "execution_count": null,
   "metadata": {
    "collapsed": true
   },
   "outputs": [],
   "source": []
  },
  {
   "cell_type": "code",
   "execution_count": null,
   "metadata": {
    "collapsed": true
   },
   "outputs": [],
   "source": []
  },
  {
   "cell_type": "code",
   "execution_count": null,
   "metadata": {
    "collapsed": true
   },
   "outputs": [],
   "source": []
  },
  {
   "cell_type": "code",
   "execution_count": null,
   "metadata": {
    "collapsed": true
   },
   "outputs": [],
   "source": []
  }
 ],
 "metadata": {
  "kernelspec": {
   "display_name": "Python 2",
   "language": "python",
   "name": "python2"
  },
  "language_info": {
   "codemirror_mode": {
    "name": "ipython",
    "version": 2
   },
   "file_extension": ".py",
   "mimetype": "text/x-python",
   "name": "python",
   "nbconvert_exporter": "python",
   "pygments_lexer": "ipython2",
   "version": "2.7.9"
  }
 },
 "nbformat": 4,
 "nbformat_minor": 0
}
