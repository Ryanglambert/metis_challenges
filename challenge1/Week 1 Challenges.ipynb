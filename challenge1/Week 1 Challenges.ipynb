{
 "cells": [
  {
   "cell_type": "markdown",
   "metadata": {},
   "source": [
    "# Challenge 1"
   ]
  },
  {
   "cell_type": "markdown",
   "metadata": {},
   "source": [
    "#### Where I get the data from"
   ]
  },
  {
   "cell_type": "markdown",
   "metadata": {},
   "source": [
    "http://web.mta.info/developers/turnstile.html"
   ]
  },
  {
   "cell_type": "markdown",
   "metadata": {},
   "source": [
    "Using **requests** library"
   ]
  },
  {
   "cell_type": "code",
   "execution_count": 1,
   "metadata": {
    "collapsed": true
   },
   "outputs": [],
   "source": [
    "import csv"
   ]
  },
  {
   "cell_type": "markdown",
   "metadata": {},
   "source": [
    "- key - First 4 entries in non-header lists describe the **location** in some manner\n",
    "- value - remaining entries describe the **division**, **date**, **time**, **desc**, **entries**, **exits**"
   ]
  },
  {
   "cell_type": "code",
   "execution_count": 12,
   "metadata": {
    "collapsed": false
   },
   "outputs": [],
   "source": [
    "turnstile_csv = [] # <<<<< BAD, do the transformations in one read through\n",
    "filename = \"/Users/ryanlambert/Downloads/turnstile_160116.txt\"\n",
    "with open(filename,\"rb\") as f:\n",
    "    reader = csv.reader(f, delimiter= ',')\n",
    "    for row in reader:\n",
    "        turnstile_csv.append(row)\n",
    "\n"
   ]
  },
  {
   "cell_type": "code",
   "execution_count": 17,
   "metadata": {
    "collapsed": false
   },
   "outputs": [],
   "source": [
    "def split_list_to_tuple_and_list(list_entry):\n",
    "    dict_key_tuple = tuple(list_entry[0:4])\n",
    "    dict_value = list_entry[4:]\n",
    "    return dict_key_tuple, dict_value\n",
    "\n",
    "def insert_key_value_pairs(dictionary, list_of_tuples):\n",
    "    for i in list_of_tuples:\n",
    "        dictionary[i[0]].append(i[1])\n",
    "\n",
    "def process_csv(csv_object, with_header=\"yes\"):\n",
    "    csv_object = \\\n",
    "    map(lambda entry: [i.strip(' ') for i in entry], csv_object)\n",
    "\n",
    "    if with_header == 'yes':\n",
    "        header = csv_object[0]\n",
    "        body = csv_object[1:]\n",
    "    else:\n",
    "        body = csv_object\n",
    "\n",
    "    body = map(split_list_to_tuple_and_list, body)\n",
    "    dictionary = {sample[0]:[] for sample in body}\n",
    "    \n",
    "    ### insert_key_value_pairs\n",
    "    insert_key_value_pairs(dictionary, body)\n",
    "    return dictionary\n",
    "\n",
    "turnstiles = process_csv(turnstile_csv, with_header='yes')"
   ]
  },
  {
   "cell_type": "markdown",
   "metadata": {},
   "source": [
    "Checking output below"
   ]
  },
  {
   "cell_type": "code",
   "execution_count": 18,
   "metadata": {
    "collapsed": false
   },
   "outputs": [
    {
     "data": {
      "text/plain": [
       "(('N134', 'R385', '00-00-00', 'ROCKAWAY BLVD'),\n",
       " [['A',\n",
       "   'IND',\n",
       "   '01/09/2016',\n",
       "   '00:00:00',\n",
       "   'REGULAR',\n",
       "   '0007149652',\n",
       "   '0002870017'],\n",
       "  ['A',\n",
       "   'IND',\n",
       "   '01/09/2016',\n",
       "   '04:00:00',\n",
       "   'REGULAR',\n",
       "   '0007149683',\n",
       "   '0002870032'],\n",
       "  ['A',\n",
       "   'IND',\n",
       "   '01/09/2016',\n",
       "   '08:00:00',\n",
       "   'REGULAR',\n",
       "   '0007149792',\n",
       "   '0002870056'],\n",
       "  ['A',\n",
       "   'IND',\n",
       "   '01/09/2016',\n",
       "   '12:00:00',\n",
       "   'REGULAR',\n",
       "   '0007150011',\n",
       "   '0002870108'],\n",
       "  ['A',\n",
       "   'IND',\n",
       "   '01/09/2016',\n",
       "   '16:00:00',\n",
       "   'REGULAR',\n",
       "   '0007150180',\n",
       "   '0002870142'],\n",
       "  ['A',\n",
       "   'IND',\n",
       "   '01/09/2016',\n",
       "   '20:00:00',\n",
       "   'REGULAR',\n",
       "   '0007150339',\n",
       "   '0002870193'],\n",
       "  ['A',\n",
       "   'IND',\n",
       "   '01/10/2016',\n",
       "   '00:00:00',\n",
       "   'REGULAR',\n",
       "   '0007150447',\n",
       "   '0002870216'],\n",
       "  ['A',\n",
       "   'IND',\n",
       "   '01/10/2016',\n",
       "   '04:00:00',\n",
       "   'REGULAR',\n",
       "   '0007150469',\n",
       "   '0002870227'],\n",
       "  ['A',\n",
       "   'IND',\n",
       "   '01/10/2016',\n",
       "   '08:00:00',\n",
       "   'REGULAR',\n",
       "   '0007150526',\n",
       "   '0002870240'],\n",
       "  ['A',\n",
       "   'IND',\n",
       "   '01/10/2016',\n",
       "   '12:00:00',\n",
       "   'REGULAR',\n",
       "   '0007150635',\n",
       "   '0002870268'],\n",
       "  ['A',\n",
       "   'IND',\n",
       "   '01/10/2016',\n",
       "   '16:00:00',\n",
       "   'REGULAR',\n",
       "   '0007150764',\n",
       "   '0002870300'],\n",
       "  ['A',\n",
       "   'IND',\n",
       "   '01/10/2016',\n",
       "   '20:00:00',\n",
       "   'REGULAR',\n",
       "   '0007150884',\n",
       "   '0002870338'],\n",
       "  ['A',\n",
       "   'IND',\n",
       "   '01/11/2016',\n",
       "   '00:00:00',\n",
       "   'REGULAR',\n",
       "   '0007150953',\n",
       "   '0002870363'],\n",
       "  ['A',\n",
       "   'IND',\n",
       "   '01/11/2016',\n",
       "   '04:00:00',\n",
       "   'REGULAR',\n",
       "   '0007150967',\n",
       "   '0002870369'],\n",
       "  ['A',\n",
       "   'IND',\n",
       "   '01/11/2016',\n",
       "   '08:00:00',\n",
       "   'REGULAR',\n",
       "   '0007151420',\n",
       "   '0002870417'],\n",
       "  ['A',\n",
       "   'IND',\n",
       "   '01/11/2016',\n",
       "   '12:00:00',\n",
       "   'REGULAR',\n",
       "   '0007151770',\n",
       "   '0002870463'],\n",
       "  ['A',\n",
       "   'IND',\n",
       "   '01/11/2016',\n",
       "   '16:00:00',\n",
       "   'REGULAR',\n",
       "   '0007151988',\n",
       "   '0002870509'],\n",
       "  ['A',\n",
       "   'IND',\n",
       "   '01/11/2016',\n",
       "   '20:00:00',\n",
       "   'REGULAR',\n",
       "   '0007152186',\n",
       "   '0002870589'],\n",
       "  ['A',\n",
       "   'IND',\n",
       "   '01/12/2016',\n",
       "   '00:00:00',\n",
       "   'REGULAR',\n",
       "   '0007152286',\n",
       "   '0002870627'],\n",
       "  ['A',\n",
       "   'IND',\n",
       "   '01/12/2016',\n",
       "   '04:00:00',\n",
       "   'REGULAR',\n",
       "   '0007152300',\n",
       "   '0002870639'],\n",
       "  ['A',\n",
       "   'IND',\n",
       "   '01/12/2016',\n",
       "   '08:00:00',\n",
       "   'REGULAR',\n",
       "   '0007152768',\n",
       "   '0002870682'],\n",
       "  ['A',\n",
       "   'IND',\n",
       "   '01/12/2016',\n",
       "   '12:00:00',\n",
       "   'REGULAR',\n",
       "   '0007153103',\n",
       "   '0002870744'],\n",
       "  ['A',\n",
       "   'IND',\n",
       "   '01/12/2016',\n",
       "   '16:00:00',\n",
       "   'REGULAR',\n",
       "   '0007153342',\n",
       "   '0002870790'],\n",
       "  ['A',\n",
       "   'IND',\n",
       "   '01/12/2016',\n",
       "   '20:00:00',\n",
       "   'REGULAR',\n",
       "   '0007153555',\n",
       "   '0002870901'],\n",
       "  ['A',\n",
       "   'IND',\n",
       "   '01/13/2016',\n",
       "   '00:00:00',\n",
       "   'REGULAR',\n",
       "   '0007153658',\n",
       "   '0002870934'],\n",
       "  ['A',\n",
       "   'IND',\n",
       "   '01/13/2016',\n",
       "   '04:00:00',\n",
       "   'REGULAR',\n",
       "   '0007153676',\n",
       "   '0002870945'],\n",
       "  ['A',\n",
       "   'IND',\n",
       "   '01/13/2016',\n",
       "   '08:00:00',\n",
       "   'REGULAR',\n",
       "   '0007154104',\n",
       "   '0002870987'],\n",
       "  ['A',\n",
       "   'IND',\n",
       "   '01/13/2016',\n",
       "   '08:20:42',\n",
       "   'REGULAR',\n",
       "   '0007154173',\n",
       "   '0002870997'],\n",
       "  ['A',\n",
       "   'IND',\n",
       "   '01/13/2016',\n",
       "   '08:56:02',\n",
       "   'REGULAR',\n",
       "   '0007154265',\n",
       "   '0002871004'],\n",
       "  ['A',\n",
       "   'IND',\n",
       "   '01/13/2016',\n",
       "   '08:57:44',\n",
       "   'REGULAR',\n",
       "   '0007154272',\n",
       "   '0002871004'],\n",
       "  ['A',\n",
       "   'IND',\n",
       "   '01/13/2016',\n",
       "   '12:00:00',\n",
       "   'REGULAR',\n",
       "   '0007154451',\n",
       "   '0002871032'],\n",
       "  ['A',\n",
       "   'IND',\n",
       "   '01/13/2016',\n",
       "   '16:00:00',\n",
       "   'REGULAR',\n",
       "   '0007154681',\n",
       "   '0002871081'],\n",
       "  ['A',\n",
       "   'IND',\n",
       "   '01/13/2016',\n",
       "   '20:00:00',\n",
       "   'REGULAR',\n",
       "   '0007154887',\n",
       "   '0002871169'],\n",
       "  ['A',\n",
       "   'IND',\n",
       "   '01/14/2016',\n",
       "   '00:00:00',\n",
       "   'REGULAR',\n",
       "   '0007154977',\n",
       "   '0002871209'],\n",
       "  ['A',\n",
       "   'IND',\n",
       "   '01/14/2016',\n",
       "   '04:00:00',\n",
       "   'REGULAR',\n",
       "   '0007154994',\n",
       "   '0002871214'],\n",
       "  ['A',\n",
       "   'IND',\n",
       "   '01/14/2016',\n",
       "   '08:00:00',\n",
       "   'REGULAR',\n",
       "   '0007155443',\n",
       "   '0002871263'],\n",
       "  ['A',\n",
       "   'IND',\n",
       "   '01/14/2016',\n",
       "   '12:00:00',\n",
       "   'REGULAR',\n",
       "   '0007155816',\n",
       "   '0002871316'],\n",
       "  ['A',\n",
       "   'IND',\n",
       "   '01/14/2016',\n",
       "   '16:00:00',\n",
       "   'REGULAR',\n",
       "   '0007156036',\n",
       "   '0002871373'],\n",
       "  ['A',\n",
       "   'IND',\n",
       "   '01/14/2016',\n",
       "   '20:00:00',\n",
       "   'REGULAR',\n",
       "   '0007156269',\n",
       "   '0002871480'],\n",
       "  ['A',\n",
       "   'IND',\n",
       "   '01/15/2016',\n",
       "   '00:00:00',\n",
       "   'REGULAR',\n",
       "   '0007156359',\n",
       "   '0002871512'],\n",
       "  ['A',\n",
       "   'IND',\n",
       "   '01/15/2016',\n",
       "   '04:00:00',\n",
       "   'REGULAR',\n",
       "   '0007156379',\n",
       "   '0002871526'],\n",
       "  ['A',\n",
       "   'IND',\n",
       "   '01/15/2016',\n",
       "   '08:00:00',\n",
       "   'REGULAR',\n",
       "   '0007156824',\n",
       "   '0002871572'],\n",
       "  ['A',\n",
       "   'IND',\n",
       "   '01/15/2016',\n",
       "   '12:00:00',\n",
       "   'REGULAR',\n",
       "   '0007157183',\n",
       "   '0002871610'],\n",
       "  ['A',\n",
       "   'IND',\n",
       "   '01/15/2016',\n",
       "   '16:00:00',\n",
       "   'REGULAR',\n",
       "   '0007157419',\n",
       "   '0002871661'],\n",
       "  ['A',\n",
       "   'IND',\n",
       "   '01/15/2016',\n",
       "   '20:00:00',\n",
       "   'REGULAR',\n",
       "   '0007157651',\n",
       "   '0002871751']])"
      ]
     },
     "execution_count": 18,
     "metadata": {},
     "output_type": "execute_result"
    }
   ],
   "source": [
    "turnstiles.iteritems().next()"
   ]
  },
  {
   "cell_type": "markdown",
   "metadata": {
    "collapsed": true
   },
   "source": [
    "# Challenge 2"
   ]
  },
  {
   "cell_type": "code",
   "execution_count": 19,
   "metadata": {
    "collapsed": false
   },
   "outputs": [],
   "source": [
    "import dateutil.parser\n",
    "import collections\n",
    "import datetime"
   ]
  },
  {
   "cell_type": "code",
   "execution_count": 20,
   "metadata": {
    "collapsed": false
   },
   "outputs": [],
   "source": [
    "turnstile_entries = turnstiles.values()\n",
    "\n",
    "### Converting dates to datetime objects\n",
    "for index_entry, entry in enumerate(turnstile_entries):\n",
    "    for index_record, record in enumerate(entry):\n",
    "        if type(record[2]) == datetime.datetime:\n",
    "            continue\n",
    "        temp = turnstile_entries[index_entry][index_record][2]\n",
    "        turnstile_entries[index_entry][index_record][2] = dateutil.parser.parse(temp)\n",
    "\n",
    "### Now let's delete the items we don't need\n",
    "for index_entry, entry in enumerate(turnstile_entries):\n",
    "    for index_record, record in enumerate(entry):\n",
    "\n",
    "        # This is bad, not explicit enough\n",
    "        del turnstile_entries[index_entry][index_record][0] \n",
    "        \n",
    "        # also now I have to keep in mind this is where '1' was :(\n",
    "        del turnstile_entries[index_entry][index_record][0] \n",
    "        del turnstile_entries[index_entry][index_record][1] \n",
    "        del turnstile_entries[index_entry][index_record][1]         \n",
    "        del turnstile_entries[index_entry][index_record][-1]\n",
    "#         print temp\n",
    "#         print type(record[2])\n",
    "#         print dateutil.parser.parse(record[2])\n",
    "#         print type(record[2])\n",
    "        \n"
   ]
  },
  {
   "cell_type": "markdown",
   "metadata": {},
   "source": [
    "I intentionally kept exits as they will be useful for my team"
   ]
  },
  {
   "cell_type": "markdown",
   "metadata": {},
   "source": [
    "Let's also remove the entries we're not interested in. \n",
    "\n",
    "we want to get rid of 0, 1, 5 in the entries"
   ]
  },
  {
   "cell_type": "markdown",
   "metadata": {},
   "source": [
    "# Challenge 3"
   ]
  },
  {
   "cell_type": "code",
   "execution_count": 21,
   "metadata": {
    "collapsed": true
   },
   "outputs": [
    {
     "data": {
      "text/plain": [
       "(('N134', 'R385', '00-00-00', 'ROCKAWAY BLVD'),\n",
       " [[datetime.datetime(2016, 1, 9, 0, 0), '0007149652'],\n",
       "  [datetime.datetime(2016, 1, 9, 0, 0), '0007149683'],\n",
       "  [datetime.datetime(2016, 1, 9, 0, 0), '0007149792'],\n",
       "  [datetime.datetime(2016, 1, 9, 0, 0), '0007150011'],\n",
       "  [datetime.datetime(2016, 1, 9, 0, 0), '0007150180'],\n",
       "  [datetime.datetime(2016, 1, 9, 0, 0), '0007150339'],\n",
       "  [datetime.datetime(2016, 1, 10, 0, 0), '0007150447'],\n",
       "  [datetime.datetime(2016, 1, 10, 0, 0), '0007150469'],\n",
       "  [datetime.datetime(2016, 1, 10, 0, 0), '0007150526'],\n",
       "  [datetime.datetime(2016, 1, 10, 0, 0), '0007150635'],\n",
       "  [datetime.datetime(2016, 1, 10, 0, 0), '0007150764'],\n",
       "  [datetime.datetime(2016, 1, 10, 0, 0), '0007150884'],\n",
       "  [datetime.datetime(2016, 1, 11, 0, 0), '0007150953'],\n",
       "  [datetime.datetime(2016, 1, 11, 0, 0), '0007150967'],\n",
       "  [datetime.datetime(2016, 1, 11, 0, 0), '0007151420'],\n",
       "  [datetime.datetime(2016, 1, 11, 0, 0), '0007151770'],\n",
       "  [datetime.datetime(2016, 1, 11, 0, 0), '0007151988'],\n",
       "  [datetime.datetime(2016, 1, 11, 0, 0), '0007152186'],\n",
       "  [datetime.datetime(2016, 1, 12, 0, 0), '0007152286'],\n",
       "  [datetime.datetime(2016, 1, 12, 0, 0), '0007152300'],\n",
       "  [datetime.datetime(2016, 1, 12, 0, 0), '0007152768'],\n",
       "  [datetime.datetime(2016, 1, 12, 0, 0), '0007153103'],\n",
       "  [datetime.datetime(2016, 1, 12, 0, 0), '0007153342'],\n",
       "  [datetime.datetime(2016, 1, 12, 0, 0), '0007153555'],\n",
       "  [datetime.datetime(2016, 1, 13, 0, 0), '0007153658'],\n",
       "  [datetime.datetime(2016, 1, 13, 0, 0), '0007153676'],\n",
       "  [datetime.datetime(2016, 1, 13, 0, 0), '0007154104'],\n",
       "  [datetime.datetime(2016, 1, 13, 0, 0), '0007154173'],\n",
       "  [datetime.datetime(2016, 1, 13, 0, 0), '0007154265'],\n",
       "  [datetime.datetime(2016, 1, 13, 0, 0), '0007154272'],\n",
       "  [datetime.datetime(2016, 1, 13, 0, 0), '0007154451'],\n",
       "  [datetime.datetime(2016, 1, 13, 0, 0), '0007154681'],\n",
       "  [datetime.datetime(2016, 1, 13, 0, 0), '0007154887'],\n",
       "  [datetime.datetime(2016, 1, 14, 0, 0), '0007154977'],\n",
       "  [datetime.datetime(2016, 1, 14, 0, 0), '0007154994'],\n",
       "  [datetime.datetime(2016, 1, 14, 0, 0), '0007155443'],\n",
       "  [datetime.datetime(2016, 1, 14, 0, 0), '0007155816'],\n",
       "  [datetime.datetime(2016, 1, 14, 0, 0), '0007156036'],\n",
       "  [datetime.datetime(2016, 1, 14, 0, 0), '0007156269'],\n",
       "  [datetime.datetime(2016, 1, 15, 0, 0), '0007156359'],\n",
       "  [datetime.datetime(2016, 1, 15, 0, 0), '0007156379'],\n",
       "  [datetime.datetime(2016, 1, 15, 0, 0), '0007156824'],\n",
       "  [datetime.datetime(2016, 1, 15, 0, 0), '0007157183'],\n",
       "  [datetime.datetime(2016, 1, 15, 0, 0), '0007157419'],\n",
       "  [datetime.datetime(2016, 1, 15, 0, 0), '0007157651']])"
      ]
     },
     "execution_count": 21,
     "metadata": {},
     "output_type": "execute_result"
    }
   ],
   "source": [
    "one_turnstile = turnstiles.iteritems().next()\n",
    "one_turnstile"
   ]
  },
  {
   "cell_type": "code",
   "execution_count": 7,
   "metadata": {
    "collapsed": true
   },
   "outputs": [
    {
     "name": "stdout",
     "output_type": "stream",
     "text": [
      "1\n",
      "1\n",
      "1\n",
      "1\n",
      "1\n",
      "1\n",
      "1\n",
      "1\n",
      "1\n",
      "1\n"
     ]
    },
    {
     "ename": "IndexError",
     "evalue": "list index out of range",
     "output_type": "error",
     "traceback": [
      "\u001b[0;31m---------------------------------------------------------------------------\u001b[0m",
      "\u001b[0;31mIndexError\u001b[0m                                Traceback (most recent call last)",
      "\u001b[0;32m<ipython-input-7-6dcadc2a1fde>\u001b[0m in \u001b[0;36m<module>\u001b[0;34m()\u001b[0m\n\u001b[1;32m      4\u001b[0m \u001b[0;32mfor\u001b[0m \u001b[0mi\u001b[0m\u001b[0;34m,\u001b[0m \u001b[0melem\u001b[0m \u001b[0;32min\u001b[0m \u001b[0menumerate\u001b[0m\u001b[0;34m(\u001b[0m\u001b[0ma\u001b[0m\u001b[0;34m)\u001b[0m\u001b[0;34m:\u001b[0m\u001b[0;34m\u001b[0m\u001b[0m\n\u001b[1;32m      5\u001b[0m     \u001b[0mcurrent_element\u001b[0m \u001b[0;34m=\u001b[0m \u001b[0melem\u001b[0m\u001b[0;34m\u001b[0m\u001b[0m\n\u001b[0;32m----> 6\u001b[0;31m     \u001b[0mnext_element\u001b[0m \u001b[0;34m=\u001b[0m \u001b[0ma\u001b[0m\u001b[0;34m[\u001b[0m\u001b[0mi\u001b[0m\u001b[0;34m+\u001b[0m\u001b[0;36m1\u001b[0m\u001b[0;34m]\u001b[0m\u001b[0;34m\u001b[0m\u001b[0m\n\u001b[0m\u001b[1;32m      7\u001b[0m     \u001b[0mdiff\u001b[0m \u001b[0;34m=\u001b[0m \u001b[0mnext_element\u001b[0m \u001b[0;34m-\u001b[0m \u001b[0mcurrent_element\u001b[0m\u001b[0;34m\u001b[0m\u001b[0m\n\u001b[1;32m      8\u001b[0m     \u001b[0;32mprint\u001b[0m \u001b[0mdiff\u001b[0m\u001b[0;34m\u001b[0m\u001b[0m\n",
      "\u001b[0;31mIndexError\u001b[0m: list index out of range"
     ]
    }
   ],
   "source": [
    "current_element = None\n",
    "next_element = None\n",
    "a = range(11)\n",
    "for i, elem in enumerate(a):\n",
    "    current_element = elem\n",
    "    next_element = a[i+1]\n",
    "    diff = next_element - current_element\n",
    "    print diff"
   ]
  },
  {
   "cell_type": "code",
   "execution_count": 8,
   "metadata": {
    "collapsed": false,
    "scrolled": true
   },
   "outputs": [],
   "source": [
    "turnstile, data = one_turnstile"
   ]
  },
  {
   "cell_type": "code",
   "execution_count": 9,
   "metadata": {
    "collapsed": false
   },
   "outputs": [],
   "source": [
    "data.sort()"
   ]
  },
  {
   "cell_type": "code",
   "execution_count": 5,
   "metadata": {
    "collapsed": false
   },
   "outputs": [
    {
     "ename": "NameError",
     "evalue": "name 'data' is not defined",
     "output_type": "error",
     "traceback": [
      "\u001b[0;31m---------------------------------------------------------------------------\u001b[0m",
      "\u001b[0;31mNameError\u001b[0m                                 Traceback (most recent call last)",
      "\u001b[0;32m<ipython-input-5-1d4062380362>\u001b[0m in \u001b[0;36m<module>\u001b[0;34m()\u001b[0m\n\u001b[0;32m----> 1\u001b[0;31m \u001b[0mticker_baseline\u001b[0m \u001b[0;34m=\u001b[0m \u001b[0mdata\u001b[0m\u001b[0;34m[\u001b[0m\u001b[0;36m0\u001b[0m\u001b[0;34m]\u001b[0m\u001b[0;34m[\u001b[0m\u001b[0;36m1\u001b[0m\u001b[0;34m]\u001b[0m\u001b[0;34m\u001b[0m\u001b[0m\n\u001b[0m\u001b[1;32m      2\u001b[0m \u001b[0;32mprint\u001b[0m \u001b[0mticker_baseline\u001b[0m\u001b[0;34m\u001b[0m\u001b[0m\n",
      "\u001b[0;31mNameError\u001b[0m: name 'data' is not defined"
     ]
    }
   ],
   "source": [
    "ticker_baseline = data[0][1]\n",
    "print ticker_baseline"
   ]
  },
  {
   "cell_type": "code",
   "execution_count": null,
   "metadata": {
    "collapsed": false
   },
   "outputs": [],
   "source": [
    "def sort_and_aggregate(data):\n",
    "    day_counts = []\n",
    "    data.sort()\n",
    "\n",
    "    today = data[0][0].date()\n",
    "    ticker_baseline = data[0][1]\n",
    "\n",
    "    for timestamp, ticker in data:\n",
    "        day = timestamp.date()\n",
    "        if day != today:\n",
    "            today_count = ticker - ticker_baseline\n",
    "            daycounts.append((today,today_count))\n",
    "            today = day\n",
    "            ticker_baseline = ticker\n",
    "\n",
    "    return daycounts"
   ]
  },
  {
   "cell_type": "code",
   "execution_count": null,
   "metadata": {
    "collapsed": false
   },
   "outputs": [],
   "source": [
    "turnstile, data = turnstiles.iteritems().next()"
   ]
  },
  {
   "cell_type": "code",
   "execution_count": null,
   "metadata": {
    "collapsed": false
   },
   "outputs": [],
   "source": [
    "daycounts = sort_and_aggregate(data)"
   ]
  },
  {
   "cell_type": "code",
   "execution_count": null,
   "metadata": {
    "collapsed": true
   },
   "outputs": [],
   "source": []
  },
  {
   "cell_type": "code",
   "execution_count": null,
   "metadata": {
    "collapsed": true
   },
   "outputs": [],
   "source": []
  },
  {
   "cell_type": "code",
   "execution_count": null,
   "metadata": {
    "collapsed": true
   },
   "outputs": [],
   "source": []
  },
  {
   "cell_type": "code",
   "execution_count": null,
   "metadata": {
    "collapsed": true
   },
   "outputs": [],
   "source": []
  },
  {
   "cell_type": "code",
   "execution_count": null,
   "metadata": {
    "collapsed": true
   },
   "outputs": [],
   "source": []
  },
  {
   "cell_type": "code",
   "execution_count": null,
   "metadata": {
    "collapsed": true
   },
   "outputs": [],
   "source": []
  },
  {
   "cell_type": "code",
   "execution_count": null,
   "metadata": {
    "collapsed": true
   },
   "outputs": [],
   "source": []
  },
  {
   "cell_type": "code",
   "execution_count": null,
   "metadata": {
    "collapsed": true
   },
   "outputs": [],
   "source": []
  },
  {
   "cell_type": "code",
   "execution_count": null,
   "metadata": {
    "collapsed": true
   },
   "outputs": [],
   "source": []
  },
  {
   "cell_type": "code",
   "execution_count": null,
   "metadata": {
    "collapsed": true
   },
   "outputs": [],
   "source": []
  },
  {
   "cell_type": "code",
   "execution_count": null,
   "metadata": {
    "collapsed": true
   },
   "outputs": [],
   "source": []
  },
  {
   "cell_type": "code",
   "execution_count": null,
   "metadata": {
    "collapsed": true
   },
   "outputs": [],
   "source": []
  },
  {
   "cell_type": "code",
   "execution_count": null,
   "metadata": {
    "collapsed": true
   },
   "outputs": [],
   "source": []
  },
  {
   "cell_type": "code",
   "execution_count": null,
   "metadata": {
    "collapsed": true
   },
   "outputs": [],
   "source": []
  },
  {
   "cell_type": "code",
   "execution_count": null,
   "metadata": {
    "collapsed": true
   },
   "outputs": [],
   "source": []
  },
  {
   "cell_type": "code",
   "execution_count": null,
   "metadata": {
    "collapsed": true
   },
   "outputs": [],
   "source": []
  },
  {
   "cell_type": "code",
   "execution_count": null,
   "metadata": {
    "collapsed": true
   },
   "outputs": [],
   "source": []
  },
  {
   "cell_type": "code",
   "execution_count": null,
   "metadata": {
    "collapsed": true
   },
   "outputs": [],
   "source": []
  },
  {
   "cell_type": "code",
   "execution_count": null,
   "metadata": {
    "collapsed": true
   },
   "outputs": [],
   "source": []
  },
  {
   "cell_type": "code",
   "execution_count": null,
   "metadata": {
    "collapsed": true
   },
   "outputs": [],
   "source": []
  }
 ],
 "metadata": {
  "kernelspec": {
   "display_name": "Python 2",
   "language": "python",
   "name": "python2"
  },
  "language_info": {
   "codemirror_mode": {
    "name": "ipython",
    "version": 2
   },
   "file_extension": ".py",
   "mimetype": "text/x-python",
   "name": "python",
   "nbconvert_exporter": "python",
   "pygments_lexer": "ipython2",
   "version": "2.7.9"
  }
 },
 "nbformat": 4,
 "nbformat_minor": 0
}
